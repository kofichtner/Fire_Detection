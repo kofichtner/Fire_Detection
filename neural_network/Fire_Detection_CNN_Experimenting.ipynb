{
 "cells": [
  {
   "cell_type": "markdown",
   "metadata": {},
   "source": [
    "## Dataset Source\n",
    "https://www.kaggle.com/phylake1337/fire-dataset/notebooks"
   ]
  },
  {
   "cell_type": "code",
   "execution_count": 16,
   "metadata": {},
   "outputs": [],
   "source": [
    "import tensorflow as tf\n",
    "from tensorflow.keras.models import Sequential\n",
    "from tensorflow.keras.layers import Dense, Activation, Conv2D, MaxPooling2D, Flatten, Dropout\n",
    "from tensorflow.keras.optimizers import Adam, SGD\n",
    "from tensorflow import keras\n",
    "from sklearn.metrics import roc_curve, auc, confusion_matrix\n",
    "from matplotlib import pyplot as plt\n",
    "from sklearn.preprocessing import MinMaxScaler\n",
    "from tensorflow.keras.callbacks import EarlyStopping\n",
    "import numpy as np\n",
    "import os\n",
    "import random\n",
    "import seaborn as sns\n",
    "from tqdm import tqdm\n",
    "from PIL import Image \n",
    "import cv2\n",
    "sns.set_theme()"
   ]
  },
  {
   "cell_type": "code",
   "execution_count": 49,
   "metadata": {},
   "outputs": [],
   "source": [
    "DATADIR = './fire_dataset'\n",
    "IMG_SIZE = (299,299)\n",
    "NUM_CLASSES = len(os.listdir(DATADIR))\n",
    "\n",
    "#Split data into train, test, and validation\n",
    "def split_data(training_data):\n",
    "    train_data = []\n",
    "    validation_data = []\n",
    "    test_data = []\n",
    "    for i in range(NUM_CLASSES):\n",
    "        i_data = []\n",
    "        for features,label in training_data:\n",
    "            if label == i:\n",
    "                i_data.append([features,label])\n",
    "        random.shuffle(i_data)\n",
    "        num_samples = len(i_data)\n",
    "        test_split = round(num_samples*0.6)\n",
    "        validation_split = round(num_samples*.15)\n",
    "        train_data+= i_data[0:test_split]\n",
    "        validation_data += i_data[test_split:test_split+validation_split]\n",
    "        test_data+=i_data[test_split+validation_split:len(i_data)]\n",
    "        print(len(i_data))\n",
    "    return train_data,test_data, validation_data\n",
    "\n",
    "#Create training data for grayscale image\n",
    "def create_training_data():\n",
    "    training_data = []\n",
    "    for i,category in enumerate(os.listdir(DATADIR)):\n",
    "        label = i\n",
    "        print(\"adding\", category)\n",
    "        for i, path in enumerate(os.listdir(os.path.join(DATADIR,category))):\n",
    "            if i > 489: #To keep dataset balanced, same number of fire & non-fire images\n",
    "                break\n",
    "            img = Image.open(os.path.join(DATADIR,category,path)).convert('L')\n",
    "            img = img.resize(IMG_SIZE)\n",
    "            img_array = np.asarray(img)\n",
    "            training_data.append([img_array,label])\n",
    "    return training_data\n",
    "\n",
    "#Create training data using R/G color ratio\n",
    "def create_training_data_CR():\n",
    "    training_data = []\n",
    "    for i,category in enumerate(os.listdir(DATADIR)):\n",
    "        label = i\n",
    "        print(\"adding\", category)\n",
    "        for i, path in enumerate(os.listdir(os.path.join(DATADIR,category))):\n",
    "            if i > 489: #To keep dataset balanced, same number of fire & non-fire images\n",
    "                break\n",
    "            img = Image.open(os.path.join(DATADIR,category,path))\n",
    "            img = img.resize(IMG_SIZE)\n",
    "            I = np.asarray(img)\n",
    "            if I.shape == (299,299,3): #keeping only color images\n",
    "                I_intensity = (I[:,:,1] > 100) # identify pixels with low GREEN values - they are less reliable\n",
    "                I_cr = I[:,:,0]/I[:,:,1] # This is the ratio of Red (0) to Green (1)\n",
    "                I_cr[~I_intensity] = 1.0 # small green values would have infinite or near infinite ratios, replace with a \"big\" number instead\n",
    "                I_sig = (I[:,:,0] > 1.2*I[:,:,1]) & I_intensity\n",
    "                training_data.append([I_sig,label])\n",
    "    return training_data\n",
    "\n",
    "#Create RGB training data\n",
    "def create_training_data_RGB():\n",
    "    training_data = []\n",
    "    for i,category in enumerate(os.listdir(DATADIR)):\n",
    "        label = i\n",
    "        print(\"adding\", category)\n",
    "        for i, path in enumerate(os.listdir(os.path.join(DATADIR,category))):\n",
    "            if i < 489:\n",
    "                img = Image.open(os.path.join(DATADIR,category,path))\n",
    "                img = img.resize(IMG_SIZE)\n",
    "                img_array = np.asarray(img)\n",
    "                if img_array.shape == (299,299,3):  #keeping only color images\n",
    "                    training_data.append([img_array,label])\n",
    "    return training_data\n",
    "\n",
    "#Reshape and normalize features\n",
    "def reshape_data(data, shape):\n",
    "    X = []\n",
    "    Y = []\n",
    "    for features, label in data:\n",
    "        X.append(features.reshape(shape))\n",
    "        Y.append(tf.keras.utils.to_categorical(label, num_classes=2, dtype=\"float32\"))\n",
    "    scaler = MinMaxScaler(feature_range=(0, 1))\n",
    "    rescaled_features = scaler.fit_transform(X)\n",
    "    Y = np.asarray(Y)\n",
    "    return rescaled_features,Y\n",
    "\n",
    "#Reshape and normalize features for 2-D data\n",
    "def reshape_data_2D(data, shape):\n",
    "    X = []\n",
    "    Y = []\n",
    "    for features, label in data:\n",
    "        X.append(features.reshape(shape))\n",
    "        Y.append(tf.keras.utils.to_categorical(label, num_classes=2, dtype=\"float32\"))\n",
    "    X = np.asarray(X)/255.0\n",
    "    Y = np.asarray(Y)\n",
    "    return X,Y"
   ]
  },
  {
   "cell_type": "code",
   "execution_count": 11,
   "metadata": {
    "scrolled": true
   },
   "outputs": [
    {
     "name": "stdout",
     "output_type": "stream",
     "text": [
      "(299, 299, 3)\n"
     ]
    },
    {
     "name": "stderr",
     "output_type": "stream",
     "text": [
      "C:\\Users\\kaitl\\anaconda3\\lib\\site-packages\\ipykernel_launcher.py:11: RuntimeWarning: divide by zero encountered in true_divide\n",
      "  # This is added back by InteractiveShellApp.init_path()\n",
      "C:\\Users\\kaitl\\anaconda3\\lib\\site-packages\\ipykernel_launcher.py:11: RuntimeWarning: invalid value encountered in true_divide\n",
      "  # This is added back by InteractiveShellApp.init_path()\n"
     ]
    },
    {
     "data": {
      "text/plain": [
       "<matplotlib.image.AxesImage at 0x193e19fc908>"
      ]
     },
     "execution_count": 11,
     "metadata": {},
     "output_type": "execute_result"
    },
    {
     "data": {
      "image/png": "[encoded data removed]",
      "text/plain": [
       "<Figure size 432x288 with 2 Axes>"
      ]
     },
     "metadata": {},
     "output_type": "display_data"
    }
   ],
   "source": [
    "#Plot an image next to it's color ratio binary image\n",
    "fig, ax = plt.subplots(ncols = 2)\n",
    "category = os.listdir(DATADIR)[0]\n",
    "path = os.listdir(os.path.join(DATADIR,category))[20]\n",
    "img = Image.open(os.path.join(DATADIR,category,path))\n",
    "\n",
    "img = img.resize(IMG_SIZE)\n",
    "I = np.asarray(img)\n",
    "print(I.shape)\n",
    "I_intensity = (I[:,:,1] > 100)\n",
    "I_cr = I[:,:,0]/I[:,:,1] \n",
    "I_cr[~I_intensity] = 1.0\n",
    "I_sig = (I[:,:,0] > 1.3*I[:,:,1]) & I_intensity\n",
    "ax[0].imshow(img)\n",
    "ax[1].imshow(I_sig)"
   ]
  },
  {
   "cell_type": "code",
   "execution_count": 29,
   "metadata": {},
   "outputs": [],
   "source": [
    "model = Sequential() # declare model\n",
    "model.add(Dense(NUM_CLASSES, input_shape=(299*299, ), kernel_initializer='he_normal')) # firstlayer\n",
    "model.add(Activation('tanh'))\n",
    "model.add(Dense(512, activation='tanh'))\n",
    "model.add(Dense(NUM_CLASSES, kernel_initializer='he_normal')) # last layer\n",
    "model.add(Activation('softmax'))\n",
    "opt = SGD(lr=0.001)\n",
    "\n",
    "model.compile(optimizer=opt, loss='categorical_crossentropy', metrics=['accuracy'])\n",
    "callbacks = [EarlyStopping(monitor = 'val_loss',patience = 5,restore_best_weights=True)]"
   ]
  },
  {
   "cell_type": "code",
   "execution_count": 14,
   "metadata": {},
   "outputs": [
    {
     "name": "stdout",
     "output_type": "stream",
     "text": [
      "adding fire_images\n",
      "adding non_fire_images\n",
      "755\n",
      "488\n",
      "Train: (746, 89401) Test: (311, 89401) Validation: (186, 89401)\n"
     ]
    }
   ],
   "source": [
    "#Create training data for grayscale simple model\n",
    "INPUT_SHAPE = (299*299,)\n",
    "training_data = create_training_data()\n",
    "\n",
    "train_data, test_data, validation_data = split_data(training_data)\n",
    "x_train, y_train = reshape_data(train_data, INPUT_SHAPE)\n",
    "x_test, y_test = reshape_data(test_data, INPUT_SHAPE)\n",
    "x_val, y_val = reshape_data(validation_data, INPUT_SHAPE)\n",
    "print(\"Train:\", x_train.shape, \"Test:\", x_test.shape, \"Validation:\", x_val.shape)"
   ]
  },
  {
   "cell_type": "code",
   "execution_count": 18,
   "metadata": {},
   "outputs": [
    {
     "name": "stdout",
     "output_type": "stream",
     "text": [
      "Epoch 1/100\n",
      "24/24 [==============================] - 0s 13ms/step - loss: 0.6895 - accuracy: 0.5389 - val_loss: 0.6729 - val_accuracy: 0.6075\n",
      "Epoch 2/100\n",
      "24/24 [==============================] - 0s 7ms/step - loss: 0.6741 - accuracy: 0.6059 - val_loss: 0.6697 - val_accuracy: 0.6075\n",
      "Epoch 3/100\n",
      "24/24 [==============================] - 0s 7ms/step - loss: 0.6708 - accuracy: 0.6059 - val_loss: 0.6676 - val_accuracy: 0.6129\n",
      "Epoch 4/100\n",
      "24/24 [==============================] - 0s 7ms/step - loss: 0.6671 - accuracy: 0.6247 - val_loss: 0.6645 - val_accuracy: 0.6129\n",
      "Epoch 5/100\n",
      "24/24 [==============================] - 0s 7ms/step - loss: 0.6636 - accuracy: 0.6273 - val_loss: 0.6613 - val_accuracy: 0.6129\n",
      "Epoch 6/100\n",
      "24/24 [==============================] - 0s 7ms/step - loss: 0.6591 - accuracy: 0.6233 - val_loss: 0.6587 - val_accuracy: 0.6183\n",
      "Epoch 7/100\n",
      "24/24 [==============================] - 0s 7ms/step - loss: 0.6549 - accuracy: 0.6260 - val_loss: 0.6639 - val_accuracy: 0.6183\n",
      "Epoch 8/100\n",
      "24/24 [==============================] - 0s 7ms/step - loss: 0.6544 - accuracy: 0.6314 - val_loss: 0.6555 - val_accuracy: 0.6129\n",
      "Epoch 9/100\n",
      "24/24 [==============================] - 0s 7ms/step - loss: 0.6482 - accuracy: 0.6314 - val_loss: 0.6511 - val_accuracy: 0.6183\n",
      "Epoch 10/100\n",
      "24/24 [==============================] - 0s 7ms/step - loss: 0.6441 - accuracy: 0.6220 - val_loss: 0.6495 - val_accuracy: 0.6183\n",
      "Epoch 11/100\n",
      "24/24 [==============================] - 0s 7ms/step - loss: 0.6403 - accuracy: 0.6300 - val_loss: 0.6415 - val_accuracy: 0.6183\n",
      "Epoch 12/100\n",
      "24/24 [==============================] - 0s 7ms/step - loss: 0.6345 - accuracy: 0.6354 - val_loss: 0.6427 - val_accuracy: 0.6183\n",
      "Epoch 13/100\n",
      "24/24 [==============================] - 0s 7ms/step - loss: 0.6313 - accuracy: 0.6381 - val_loss: 0.6464 - val_accuracy: 0.6183\n",
      "Epoch 14/100\n",
      "24/24 [==============================] - 0s 7ms/step - loss: 0.6305 - accuracy: 0.6367 - val_loss: 0.6458 - val_accuracy: 0.6882\n",
      "Epoch 15/100\n",
      "24/24 [==============================] - 0s 8ms/step - loss: 0.6245 - accuracy: 0.6649 - val_loss: 0.6279 - val_accuracy: 0.6183\n",
      "Epoch 16/100\n",
      "24/24 [==============================] - 0s 7ms/step - loss: 0.6207 - accuracy: 0.6582 - val_loss: 0.6245 - val_accuracy: 0.6290\n",
      "Epoch 17/100\n",
      "24/24 [==============================] - 0s 7ms/step - loss: 0.6164 - accuracy: 0.6729 - val_loss: 0.6257 - val_accuracy: 0.6183\n",
      "Epoch 18/100\n",
      "24/24 [==============================] - 0s 8ms/step - loss: 0.6137 - accuracy: 0.6649 - val_loss: 0.6176 - val_accuracy: 0.6344\n",
      "Epoch 19/100\n",
      "24/24 [==============================] - 0s 8ms/step - loss: 0.6068 - accuracy: 0.6836 - val_loss: 0.6136 - val_accuracy: 0.6452\n",
      "Epoch 20/100\n",
      "24/24 [==============================] - 0s 7ms/step - loss: 0.6023 - accuracy: 0.6944 - val_loss: 0.6261 - val_accuracy: 0.6183\n",
      "Epoch 21/100\n",
      "24/24 [==============================] - 0s 7ms/step - loss: 0.6021 - accuracy: 0.6850 - val_loss: 0.6089 - val_accuracy: 0.6505\n",
      "Epoch 22/100\n",
      "24/24 [==============================] - 0s 8ms/step - loss: 0.5985 - accuracy: 0.6810 - val_loss: 0.6371 - val_accuracy: 0.6075\n",
      "Epoch 23/100\n",
      "24/24 [==============================] - 0s 7ms/step - loss: 0.5985 - accuracy: 0.6984 - val_loss: 0.6066 - val_accuracy: 0.6559\n",
      "Epoch 24/100\n",
      "24/24 [==============================] - 0s 7ms/step - loss: 0.5882 - accuracy: 0.7064 - val_loss: 0.6211 - val_accuracy: 0.6237\n",
      "Epoch 25/100\n",
      "24/24 [==============================] - 0s 7ms/step - loss: 0.5865 - accuracy: 0.7064 - val_loss: 0.6287 - val_accuracy: 0.6559\n",
      "Epoch 26/100\n",
      "24/24 [==============================] - 0s 7ms/step - loss: 0.5833 - accuracy: 0.7198 - val_loss: 0.6004 - val_accuracy: 0.6505\n",
      "Epoch 27/100\n",
      "24/24 [==============================] - 0s 8ms/step - loss: 0.5744 - accuracy: 0.7265 - val_loss: 0.5957 - val_accuracy: 0.6989\n",
      "Epoch 28/100\n",
      "24/24 [==============================] - 0s 7ms/step - loss: 0.5715 - accuracy: 0.7319 - val_loss: 0.5911 - val_accuracy: 0.6559\n",
      "Epoch 29/100\n",
      "24/24 [==============================] - 0s 7ms/step - loss: 0.5697 - accuracy: 0.7332 - val_loss: 0.5899 - val_accuracy: 0.6505\n",
      "Epoch 30/100\n",
      "24/24 [==============================] - 0s 7ms/step - loss: 0.5635 - accuracy: 0.7279 - val_loss: 0.5875 - val_accuracy: 0.6452\n",
      "Epoch 31/100\n",
      "24/24 [==============================] - 0s 7ms/step - loss: 0.5620 - accuracy: 0.7399 - val_loss: 0.5841 - val_accuracy: 0.6720\n",
      "Epoch 32/100\n",
      "24/24 [==============================] - 0s 8ms/step - loss: 0.5562 - accuracy: 0.7373 - val_loss: 0.5859 - val_accuracy: 0.7204\n",
      "Epoch 33/100\n",
      "24/24 [==============================] - 0s 7ms/step - loss: 0.5553 - accuracy: 0.7560 - val_loss: 0.5815 - val_accuracy: 0.6613\n",
      "Epoch 34/100\n",
      "24/24 [==============================] - 0s 7ms/step - loss: 0.5473 - accuracy: 0.7614 - val_loss: 0.6105 - val_accuracy: 0.6237\n",
      "Epoch 35/100\n",
      "24/24 [==============================] - 0s 7ms/step - loss: 0.5487 - accuracy: 0.7614 - val_loss: 0.5917 - val_accuracy: 0.6505\n",
      "Epoch 36/100\n",
      "24/24 [==============================] - 0s 7ms/step - loss: 0.5396 - accuracy: 0.7493 - val_loss: 0.5783 - val_accuracy: 0.6667\n",
      "Epoch 37/100\n",
      "24/24 [==============================] - 0s 7ms/step - loss: 0.5389 - accuracy: 0.7547 - val_loss: 0.5793 - val_accuracy: 0.7151\n",
      "Epoch 38/100\n",
      "24/24 [==============================] - 0s 7ms/step - loss: 0.5409 - accuracy: 0.7627 - val_loss: 0.6018 - val_accuracy: 0.6398\n",
      "Epoch 39/100\n",
      "24/24 [==============================] - 0s 7ms/step - loss: 0.5307 - accuracy: 0.7694 - val_loss: 0.5765 - val_accuracy: 0.6774\n",
      "Epoch 40/100\n",
      "24/24 [==============================] - 0s 7ms/step - loss: 0.5208 - accuracy: 0.7842 - val_loss: 0.5727 - val_accuracy: 0.7204\n",
      "Epoch 41/100\n",
      "24/24 [==============================] - 0s 7ms/step - loss: 0.5173 - accuracy: 0.7828 - val_loss: 0.5955 - val_accuracy: 0.6882\n",
      "Epoch 42/100\n",
      "24/24 [==============================] - 0s 8ms/step - loss: 0.5200 - accuracy: 0.7922 - val_loss: 0.5674 - val_accuracy: 0.7097\n",
      "Epoch 43/100\n",
      "24/24 [==============================] - 0s 8ms/step - loss: 0.5217 - accuracy: 0.7721 - val_loss: 0.5865 - val_accuracy: 0.6613\n",
      "Epoch 44/100\n",
      "24/24 [==============================] - 0s 7ms/step - loss: 0.5142 - accuracy: 0.7748 - val_loss: 0.5749 - val_accuracy: 0.7204\n",
      "Epoch 45/100\n",
      "24/24 [==============================] - 0s 7ms/step - loss: 0.5064 - accuracy: 0.7909 - val_loss: 0.5724 - val_accuracy: 0.6882\n",
      "Epoch 46/100\n",
      "24/24 [==============================] - 0s 7ms/step - loss: 0.4899 - accuracy: 0.8110 - val_loss: 0.5755 - val_accuracy: 0.7097\n",
      "Epoch 47/100\n",
      "24/24 [==============================] - 0s 7ms/step - loss: 0.4889 - accuracy: 0.8110 - val_loss: 0.6145 - val_accuracy: 0.6237\n",
      "Epoch 48/100\n",
      "24/24 [==============================] - 0s 7ms/step - loss: 0.5056 - accuracy: 0.7962 - val_loss: 0.7108 - val_accuracy: 0.6183\n",
      "Epoch 49/100\n",
      "24/24 [==============================] - 0s 7ms/step - loss: 0.4994 - accuracy: 0.7909 - val_loss: 0.5713 - val_accuracy: 0.6989\n",
      "Epoch 50/100\n",
      "24/24 [==============================] - 0s 8ms/step - loss: 0.4936 - accuracy: 0.8003 - val_loss: 0.7350 - val_accuracy: 0.4785\n",
      "Epoch 51/100\n",
      "24/24 [==============================] - 0s 7ms/step - loss: 0.5076 - accuracy: 0.7761 - val_loss: 0.6099 - val_accuracy: 0.6237\n",
      "Epoch 52/100\n",
      "24/24 [==============================] - 0s 8ms/step - loss: 0.4915 - accuracy: 0.7869 - val_loss: 0.6912 - val_accuracy: 0.6183\n",
      "10/10 - 0s - loss: 0.5549 - accuracy: 0.7363\n",
      "Test loss: 0.554944634437561 / Test accuracy: 0.7363343834877014\n"
     ]
    }
   ],
   "source": [
    "#Train model on grayscale images\n",
    "history = model.fit(x_train,y_train,validation_data=(x_val, y_val),epochs = 100,batch_size = 32,callbacks = callbacks)\n",
    "\n",
    "# Report Results\n",
    "# print(history.history)\n",
    "y_pred = model.predict(x_test)\n",
    "score = model.evaluate(x_test, y_test, verbose=2)\n",
    "print(f'Test loss: {score[0]} / Test accuracy: {score[1]}')"
   ]
  },
  {
   "cell_type": "code",
   "execution_count": 25,
   "metadata": {},
   "outputs": [
    {
     "name": "stdout",
     "output_type": "stream",
     "text": [
      "adding fire_images\n"
     ]
    },
    {
     "name": "stderr",
     "output_type": "stream",
     "text": [
      "C:\\Users\\kaitl\\anaconda3\\lib\\site-packages\\ipykernel_launcher.py:54: RuntimeWarning: divide by zero encountered in true_divide\n",
      "C:\\Users\\kaitl\\anaconda3\\lib\\site-packages\\ipykernel_launcher.py:54: RuntimeWarning: invalid value encountered in true_divide\n"
     ]
    },
    {
     "name": "stdout",
     "output_type": "stream",
     "text": [
      "adding non_fire_images\n",
      "487\n",
      "478\n",
      "Train: (579, 89401) Test: (241, 89401) Validation: (145, 89401)\n"
     ]
    }
   ],
   "source": [
    "#Create training data for color ratio simple model\n",
    "INPUT_SHAPE = (299*299,)\n",
    "training_data = create_training_data_CR()\n",
    "\n",
    "train_data, test_data, validation_data = split_data(training_data)\n",
    "x_train, y_train = reshape_data(train_data, INPUT_SHAPE)\n",
    "x_test, y_test = reshape_data(test_data, INPUT_SHAPE)\n",
    "x_val, y_val = reshape_data(validation_data, INPUT_SHAPE)\n",
    "print(\"Train:\", x_train.shape, \"Test:\", x_test.shape, \"Validation:\", x_val.shape)"
   ]
  },
  {
   "cell_type": "code",
   "execution_count": 32,
   "metadata": {
    "scrolled": true
   },
   "outputs": [
    {
     "name": "stdout",
     "output_type": "stream",
     "text": [
      "Epoch 1/100\n",
      "19/19 [==============================] - 0s 9ms/step - loss: 0.2592 - accuracy: 0.9793 - val_loss: 0.3921 - val_accuracy: 0.9172\n",
      "Epoch 2/100\n",
      "19/19 [==============================] - 0s 7ms/step - loss: 0.2544 - accuracy: 0.9793 - val_loss: 0.3881 - val_accuracy: 0.9103\n",
      "Epoch 3/100\n",
      "19/19 [==============================] - 0s 7ms/step - loss: 0.2501 - accuracy: 0.9793 - val_loss: 0.3850 - val_accuracy: 0.9103\n",
      "Epoch 4/100\n",
      "19/19 [==============================] - 0s 9ms/step - loss: 0.2460 - accuracy: 0.9793 - val_loss: 0.3817 - val_accuracy: 0.9172\n",
      "Epoch 5/100\n",
      "19/19 [==============================] - 0s 7ms/step - loss: 0.2420 - accuracy: 0.9793 - val_loss: 0.3783 - val_accuracy: 0.9172\n",
      "Epoch 6/100\n",
      "19/19 [==============================] - 0s 7ms/step - loss: 0.2380 - accuracy: 0.9793 - val_loss: 0.3747 - val_accuracy: 0.9172\n",
      "Epoch 7/100\n",
      "19/19 [==============================] - 0s 8ms/step - loss: 0.2343 - accuracy: 0.9793 - val_loss: 0.3719 - val_accuracy: 0.9172\n",
      "Epoch 8/100\n",
      "19/19 [==============================] - 0s 8ms/step - loss: 0.2305 - accuracy: 0.9793 - val_loss: 0.3693 - val_accuracy: 0.9103\n",
      "Epoch 9/100\n",
      "19/19 [==============================] - 0s 8ms/step - loss: 0.2269 - accuracy: 0.9793 - val_loss: 0.3662 - val_accuracy: 0.9172\n",
      "Epoch 10/100\n",
      "19/19 [==============================] - 0s 8ms/step - loss: 0.2234 - accuracy: 0.9793 - val_loss: 0.3631 - val_accuracy: 0.9103\n",
      "Epoch 11/100\n",
      "19/19 [==============================] - 0s 7ms/step - loss: 0.2199 - accuracy: 0.9793 - val_loss: 0.3618 - val_accuracy: 0.9172\n",
      "Epoch 12/100\n",
      "19/19 [==============================] - 0s 7ms/step - loss: 0.2164 - accuracy: 0.9793 - val_loss: 0.3575 - val_accuracy: 0.9172\n",
      "Epoch 13/100\n",
      "19/19 [==============================] - 0s 7ms/step - loss: 0.2129 - accuracy: 0.9793 - val_loss: 0.3530 - val_accuracy: 0.9172\n",
      "Epoch 14/100\n",
      "19/19 [==============================] - 0s 7ms/step - loss: 0.2092 - accuracy: 0.9793 - val_loss: 0.3487 - val_accuracy: 0.9172\n",
      "Epoch 15/100\n",
      "19/19 [==============================] - 0s 7ms/step - loss: 0.2056 - accuracy: 0.9793 - val_loss: 0.3446 - val_accuracy: 0.9241\n",
      "Epoch 16/100\n",
      "19/19 [==============================] - 0s 7ms/step - loss: 0.2021 - accuracy: 0.9793 - val_loss: 0.3416 - val_accuracy: 0.9310\n",
      "Epoch 17/100\n",
      "19/19 [==============================] - 0s 7ms/step - loss: 0.1988 - accuracy: 0.9862 - val_loss: 0.3377 - val_accuracy: 0.9310\n",
      "Epoch 18/100\n",
      "19/19 [==============================] - 0s 7ms/step - loss: 0.1957 - accuracy: 0.9862 - val_loss: 0.3357 - val_accuracy: 0.9310\n",
      "Epoch 19/100\n",
      "19/19 [==============================] - 0s 7ms/step - loss: 0.1928 - accuracy: 0.9862 - val_loss: 0.3337 - val_accuracy: 0.9310\n",
      "Epoch 20/100\n",
      "19/19 [==============================] - 0s 7ms/step - loss: 0.1898 - accuracy: 0.9862 - val_loss: 0.3330 - val_accuracy: 0.9310\n",
      "Epoch 21/100\n",
      "19/19 [==============================] - 0s 7ms/step - loss: 0.1869 - accuracy: 0.9862 - val_loss: 0.3309 - val_accuracy: 0.9310\n",
      "Epoch 22/100\n",
      "19/19 [==============================] - 0s 7ms/step - loss: 0.1839 - accuracy: 0.9862 - val_loss: 0.3294 - val_accuracy: 0.9310\n",
      "Epoch 23/100\n",
      "19/19 [==============================] - 0s 7ms/step - loss: 0.1808 - accuracy: 0.9862 - val_loss: 0.3277 - val_accuracy: 0.9310\n",
      "Epoch 24/100\n",
      "19/19 [==============================] - 0s 7ms/step - loss: 0.1776 - accuracy: 0.9862 - val_loss: 0.3258 - val_accuracy: 0.9310\n",
      "Epoch 25/100\n",
      "19/19 [==============================] - 0s 7ms/step - loss: 0.1751 - accuracy: 0.9879 - val_loss: 0.3253 - val_accuracy: 0.9310\n",
      "Epoch 26/100\n",
      "19/19 [==============================] - 0s 7ms/step - loss: 0.1726 - accuracy: 0.9879 - val_loss: 0.3223 - val_accuracy: 0.9310\n",
      "Epoch 27/100\n",
      "19/19 [==============================] - 0s 7ms/step - loss: 0.1702 - accuracy: 0.9879 - val_loss: 0.3191 - val_accuracy: 0.9310\n",
      "Epoch 28/100\n",
      "19/19 [==============================] - 0s 7ms/step - loss: 0.1679 - accuracy: 0.9879 - val_loss: 0.3169 - val_accuracy: 0.9310\n",
      "Epoch 29/100\n",
      "19/19 [==============================] - 0s 7ms/step - loss: 0.1656 - accuracy: 0.9879 - val_loss: 0.3149 - val_accuracy: 0.9310\n",
      "Epoch 30/100\n",
      "19/19 [==============================] - 0s 7ms/step - loss: 0.1635 - accuracy: 0.9879 - val_loss: 0.3126 - val_accuracy: 0.9310\n",
      "Epoch 31/100\n",
      "19/19 [==============================] - 0s 7ms/step - loss: 0.1613 - accuracy: 0.9879 - val_loss: 0.3108 - val_accuracy: 0.9310\n",
      "Epoch 32/100\n",
      "19/19 [==============================] - 0s 7ms/step - loss: 0.1593 - accuracy: 0.9879 - val_loss: 0.3094 - val_accuracy: 0.9310\n",
      "Epoch 33/100\n",
      "19/19 [==============================] - 0s 7ms/step - loss: 0.1573 - accuracy: 0.9879 - val_loss: 0.3078 - val_accuracy: 0.9310\n",
      "Epoch 34/100\n",
      "19/19 [==============================] - 0s 7ms/step - loss: 0.1553 - accuracy: 0.9879 - val_loss: 0.3061 - val_accuracy: 0.9310\n",
      "Epoch 35/100\n",
      "19/19 [==============================] - 0s 7ms/step - loss: 0.1534 - accuracy: 0.9879 - val_loss: 0.3049 - val_accuracy: 0.9310\n",
      "Epoch 36/100\n",
      "19/19 [==============================] - 0s 7ms/step - loss: 0.1516 - accuracy: 0.9879 - val_loss: 0.3038 - val_accuracy: 0.9241\n",
      "Epoch 37/100\n",
      "19/19 [==============================] - 0s 8ms/step - loss: 0.1499 - accuracy: 0.9879 - val_loss: 0.3019 - val_accuracy: 0.9310\n",
      "Epoch 38/100\n",
      "19/19 [==============================] - 0s 7ms/step - loss: 0.1481 - accuracy: 0.9879 - val_loss: 0.3003 - val_accuracy: 0.9310\n",
      "Epoch 39/100\n",
      "19/19 [==============================] - 0s 7ms/step - loss: 0.1464 - accuracy: 0.9879 - val_loss: 0.2987 - val_accuracy: 0.9310\n",
      "Epoch 40/100\n",
      "19/19 [==============================] - 0s 7ms/step - loss: 0.1448 - accuracy: 0.9879 - val_loss: 0.2971 - val_accuracy: 0.9241\n",
      "Epoch 41/100\n",
      "19/19 [==============================] - 0s 7ms/step - loss: 0.1432 - accuracy: 0.9879 - val_loss: 0.2961 - val_accuracy: 0.9241\n",
      "Epoch 42/100\n",
      "19/19 [==============================] - 0s 8ms/step - loss: 0.1416 - accuracy: 0.9879 - val_loss: 0.2950 - val_accuracy: 0.9241\n",
      "Epoch 43/100\n",
      "19/19 [==============================] - 0s 9ms/step - loss: 0.1400 - accuracy: 0.9879 - val_loss: 0.2941 - val_accuracy: 0.9241\n",
      "Epoch 44/100\n",
      "19/19 [==============================] - 0s 7ms/step - loss: 0.1385 - accuracy: 0.9879 - val_loss: 0.2950 - val_accuracy: 0.9241\n",
      "Epoch 45/100\n",
      "19/19 [==============================] - 0s 7ms/step - loss: 0.1370 - accuracy: 0.9879 - val_loss: 0.2941 - val_accuracy: 0.9241\n",
      "Epoch 46/100\n",
      "19/19 [==============================] - 0s 7ms/step - loss: 0.1356 - accuracy: 0.9879 - val_loss: 0.2927 - val_accuracy: 0.9241\n",
      "Epoch 47/100\n",
      "19/19 [==============================] - 0s 7ms/step - loss: 0.1342 - accuracy: 0.9879 - val_loss: 0.2917 - val_accuracy: 0.9241\n",
      "Epoch 48/100\n",
      "19/19 [==============================] - 0s 8ms/step - loss: 0.1328 - accuracy: 0.9879 - val_loss: 0.2907 - val_accuracy: 0.9241\n",
      "Epoch 49/100\n",
      "19/19 [==============================] - 0s 7ms/step - loss: 0.1315 - accuracy: 0.9879 - val_loss: 0.2897 - val_accuracy: 0.9241\n",
      "Epoch 50/100\n",
      "19/19 [==============================] - 0s 7ms/step - loss: 0.1301 - accuracy: 0.9879 - val_loss: 0.2886 - val_accuracy: 0.9241\n",
      "Epoch 51/100\n",
      "19/19 [==============================] - 0s 7ms/step - loss: 0.1288 - accuracy: 0.9879 - val_loss: 0.2877 - val_accuracy: 0.9241\n",
      "Epoch 52/100\n",
      "19/19 [==============================] - 0s 7ms/step - loss: 0.1275 - accuracy: 0.9879 - val_loss: 0.2866 - val_accuracy: 0.9241\n",
      "Epoch 53/100\n",
      "19/19 [==============================] - 0s 7ms/step - loss: 0.1263 - accuracy: 0.9879 - val_loss: 0.2857 - val_accuracy: 0.9241\n",
      "Epoch 54/100\n",
      "19/19 [==============================] - 0s 7ms/step - loss: 0.1251 - accuracy: 0.9879 - val_loss: 0.2849 - val_accuracy: 0.9241\n",
      "Epoch 55/100\n",
      "19/19 [==============================] - 0s 7ms/step - loss: 0.1239 - accuracy: 0.9879 - val_loss: 0.2840 - val_accuracy: 0.9241\n",
      "Epoch 56/100\n",
      "19/19 [==============================] - 0s 7ms/step - loss: 0.1227 - accuracy: 0.9879 - val_loss: 0.2831 - val_accuracy: 0.9241\n",
      "Epoch 57/100\n",
      "19/19 [==============================] - 0s 7ms/step - loss: 0.1216 - accuracy: 0.9879 - val_loss: 0.2823 - val_accuracy: 0.9241\n",
      "Epoch 58/100\n",
      "19/19 [==============================] - 0s 7ms/step - loss: 0.1205 - accuracy: 0.9879 - val_loss: 0.2816 - val_accuracy: 0.9241\n"
     ]
    },
    {
     "name": "stdout",
     "output_type": "stream",
     "text": [
      "Epoch 59/100\n",
      "19/19 [==============================] - 0s 7ms/step - loss: 0.1194 - accuracy: 0.9879 - val_loss: 0.2808 - val_accuracy: 0.9241\n",
      "Epoch 60/100\n",
      "19/19 [==============================] - 0s 6ms/step - loss: 0.1183 - accuracy: 0.9879 - val_loss: 0.2800 - val_accuracy: 0.9241\n",
      "Epoch 61/100\n",
      "19/19 [==============================] - 0s 7ms/step - loss: 0.1173 - accuracy: 0.9879 - val_loss: 0.2791 - val_accuracy: 0.9241\n",
      "Epoch 62/100\n",
      "19/19 [==============================] - 0s 6ms/step - loss: 0.1163 - accuracy: 0.9879 - val_loss: 0.2786 - val_accuracy: 0.9241\n",
      "Epoch 63/100\n",
      "19/19 [==============================] - 0s 7ms/step - loss: 0.1153 - accuracy: 0.9879 - val_loss: 0.2778 - val_accuracy: 0.9241\n",
      "Epoch 64/100\n",
      "19/19 [==============================] - 0s 7ms/step - loss: 0.1143 - accuracy: 0.9879 - val_loss: 0.2773 - val_accuracy: 0.9241\n",
      "Epoch 65/100\n",
      "19/19 [==============================] - 0s 7ms/step - loss: 0.1133 - accuracy: 0.9879 - val_loss: 0.2767 - val_accuracy: 0.9241\n",
      "Epoch 66/100\n",
      "19/19 [==============================] - 0s 7ms/step - loss: 0.1126 - accuracy: 0.9879 - val_loss: 0.2761 - val_accuracy: 0.9241\n",
      "Epoch 67/100\n",
      "19/19 [==============================] - 0s 7ms/step - loss: 0.1117 - accuracy: 0.9879 - val_loss: 0.2755 - val_accuracy: 0.9241\n",
      "Epoch 68/100\n",
      "19/19 [==============================] - 0s 7ms/step - loss: 0.1107 - accuracy: 0.9879 - val_loss: 0.2750 - val_accuracy: 0.9241\n",
      "Epoch 69/100\n",
      "19/19 [==============================] - 0s 7ms/step - loss: 0.1098 - accuracy: 0.9879 - val_loss: 0.2745 - val_accuracy: 0.9241\n",
      "Epoch 70/100\n",
      "19/19 [==============================] - 0s 7ms/step - loss: 0.1090 - accuracy: 0.9879 - val_loss: 0.2739 - val_accuracy: 0.9241\n",
      "Epoch 71/100\n",
      "19/19 [==============================] - 0s 7ms/step - loss: 0.1081 - accuracy: 0.9879 - val_loss: 0.2741 - val_accuracy: 0.9241\n",
      "Epoch 72/100\n",
      "19/19 [==============================] - 0s 8ms/step - loss: 0.1073 - accuracy: 0.9879 - val_loss: 0.2735 - val_accuracy: 0.9241\n",
      "Epoch 73/100\n",
      "19/19 [==============================] - 0s 7ms/step - loss: 0.1065 - accuracy: 0.9879 - val_loss: 0.2729 - val_accuracy: 0.9241\n",
      "Epoch 74/100\n",
      "19/19 [==============================] - 0s 7ms/step - loss: 0.1056 - accuracy: 0.9879 - val_loss: 0.2720 - val_accuracy: 0.9241\n",
      "Epoch 75/100\n",
      "19/19 [==============================] - 0s 7ms/step - loss: 0.1048 - accuracy: 0.9879 - val_loss: 0.2710 - val_accuracy: 0.9241\n",
      "Epoch 76/100\n",
      "19/19 [==============================] - 0s 7ms/step - loss: 0.1041 - accuracy: 0.9879 - val_loss: 0.2706 - val_accuracy: 0.9241\n",
      "Epoch 77/100\n",
      "19/19 [==============================] - 0s 7ms/step - loss: 0.1033 - accuracy: 0.9879 - val_loss: 0.2704 - val_accuracy: 0.9241\n",
      "Epoch 78/100\n",
      "19/19 [==============================] - 0s 7ms/step - loss: 0.1026 - accuracy: 0.9879 - val_loss: 0.2699 - val_accuracy: 0.9241\n",
      "Epoch 79/100\n",
      "19/19 [==============================] - 0s 7ms/step - loss: 0.1018 - accuracy: 0.9879 - val_loss: 0.2693 - val_accuracy: 0.9241\n",
      "Epoch 80/100\n",
      "19/19 [==============================] - 0s 8ms/step - loss: 0.1011 - accuracy: 0.9879 - val_loss: 0.2700 - val_accuracy: 0.9241\n",
      "Epoch 81/100\n",
      "19/19 [==============================] - 0s 8ms/step - loss: 0.1003 - accuracy: 0.9879 - val_loss: 0.2695 - val_accuracy: 0.9241\n",
      "Epoch 82/100\n",
      "19/19 [==============================] - 0s 8ms/step - loss: 0.0997 - accuracy: 0.9879 - val_loss: 0.2690 - val_accuracy: 0.9241\n",
      "Epoch 83/100\n",
      "19/19 [==============================] - 0s 7ms/step - loss: 0.0990 - accuracy: 0.9879 - val_loss: 0.2681 - val_accuracy: 0.9241\n",
      "Epoch 84/100\n",
      "19/19 [==============================] - 0s 7ms/step - loss: 0.0983 - accuracy: 0.9879 - val_loss: 0.2675 - val_accuracy: 0.9241\n",
      "Epoch 85/100\n",
      "19/19 [==============================] - 0s 7ms/step - loss: 0.0977 - accuracy: 0.9879 - val_loss: 0.2670 - val_accuracy: 0.9241\n",
      "Epoch 86/100\n",
      "19/19 [==============================] - 0s 7ms/step - loss: 0.0970 - accuracy: 0.9879 - val_loss: 0.2663 - val_accuracy: 0.9241\n",
      "Epoch 87/100\n",
      "19/19 [==============================] - 0s 7ms/step - loss: 0.0964 - accuracy: 0.9879 - val_loss: 0.2659 - val_accuracy: 0.9241\n",
      "Epoch 88/100\n",
      "19/19 [==============================] - 0s 7ms/step - loss: 0.0958 - accuracy: 0.9879 - val_loss: 0.2655 - val_accuracy: 0.9241\n",
      "Epoch 89/100\n",
      "19/19 [==============================] - 0s 7ms/step - loss: 0.0952 - accuracy: 0.9879 - val_loss: 0.2650 - val_accuracy: 0.9241\n",
      "Epoch 90/100\n",
      "19/19 [==============================] - 0s 7ms/step - loss: 0.0946 - accuracy: 0.9879 - val_loss: 0.2646 - val_accuracy: 0.9241\n",
      "Epoch 91/100\n",
      "19/19 [==============================] - 0s 7ms/step - loss: 0.0940 - accuracy: 0.9879 - val_loss: 0.2643 - val_accuracy: 0.9241\n",
      "Epoch 92/100\n",
      "19/19 [==============================] - 0s 7ms/step - loss: 0.0935 - accuracy: 0.9879 - val_loss: 0.2639 - val_accuracy: 0.9241\n",
      "Epoch 93/100\n",
      "19/19 [==============================] - 0s 7ms/step - loss: 0.0929 - accuracy: 0.9879 - val_loss: 0.2636 - val_accuracy: 0.9241\n",
      "Epoch 94/100\n",
      "19/19 [==============================] - 0s 7ms/step - loss: 0.0924 - accuracy: 0.9879 - val_loss: 0.2634 - val_accuracy: 0.9241\n",
      "Epoch 95/100\n",
      "19/19 [==============================] - 0s 7ms/step - loss: 0.0918 - accuracy: 0.9879 - val_loss: 0.2630 - val_accuracy: 0.9241\n",
      "Epoch 96/100\n",
      "19/19 [==============================] - 0s 7ms/step - loss: 0.0913 - accuracy: 0.9879 - val_loss: 0.2627 - val_accuracy: 0.9241\n",
      "Epoch 97/100\n",
      "19/19 [==============================] - 0s 7ms/step - loss: 0.0908 - accuracy: 0.9879 - val_loss: 0.2623 - val_accuracy: 0.9241\n",
      "Epoch 98/100\n",
      "19/19 [==============================] - 0s 7ms/step - loss: 0.0903 - accuracy: 0.9879 - val_loss: 0.2620 - val_accuracy: 0.9241\n",
      "Epoch 99/100\n",
      "19/19 [==============================] - 0s 7ms/step - loss: 0.0898 - accuracy: 0.9879 - val_loss: 0.2617 - val_accuracy: 0.9241\n",
      "Epoch 100/100\n",
      "19/19 [==============================] - 0s 6ms/step - loss: 0.0893 - accuracy: 0.9879 - val_loss: 0.2615 - val_accuracy: 0.9241\n",
      "8/8 - 0s - loss: 0.2560 - accuracy: 0.9129\n",
      "Test loss: 0.25595033168792725 / Test accuracy: 0.9128630757331848\n"
     ]
    }
   ],
   "source": [
    "#Train model on color ratio binary images\n",
    "history = model.fit(x_train,y_train,validation_data=(x_val, y_val),epochs = 100,batch_size = 32,callbacks = callbacks)\n",
    "\n",
    "# Report Results\n",
    "# print(history.history)\n",
    "y_pred = model.predict(x_test)\n",
    "score = model.evaluate(x_test, y_test, verbose=2)\n",
    "print(f'Test loss: {score[0]} / Test accuracy: {score[1]}')"
   ]
  },
  {
   "cell_type": "code",
   "execution_count": 33,
   "metadata": {
    "scrolled": true
   },
   "outputs": [
    {
     "data": {
      "image/png": "[encoded data removed]",
      "text/plain": [
       "<Figure size 432x288 with 1 Axes>"
      ]
     },
     "metadata": {},
     "output_type": "display_data"
    }
   ],
   "source": [
    "#Plot Epoch vs. Model Accuracy \n",
    "plt.clf()\n",
    "plt.plot(history.history['accuracy'])\n",
    "plt.plot(history.history['val_accuracy'])\n",
    "plt.title('model accuracy')\n",
    "plt.ylabel('accuracy')\n",
    "plt.xlabel('epoch')\n",
    "plt.legend(['train', 'validation'], loc='upper left')\n",
    "plt.show()"
   ]
  },
  {
   "cell_type": "code",
   "execution_count": 28,
   "metadata": {
    "scrolled": true
   },
   "outputs": [
    {
     "data": {
      "image/png": "[encoded data removed]",
      "text/plain": [
       "<Figure size 432x288 with 2 Axes>"
      ]
     },
     "metadata": {},
     "output_type": "display_data"
    }
   ],
   "source": [
    "#Create labels for confusion matrix\n",
    "labels = [\"Fire\", \"No Fire\"]\n",
    "    \n",
    "#Get data for confusion matrix\n",
    "pred = np.argmax(y_pred, axis=-1)\n",
    "test = np.argmax(y_test, axis=-1)\n",
    "# print(y_pred)\n",
    "# print(y_test)\n",
    "confusion_data = confusion_matrix(test, pred)\n",
    "\n",
    "#plot incorrectly classified images\n",
    "heat_map = sns.heatmap(confusion_data, cmap='Blues',annot=True, linewidths=0, fmt='g', xticklabels=labels, yticklabels=labels)\n",
    "plt.xlabel(\"Predicted Values\")\n",
    "plt.ylabel(\"True Values\")\n",
    "plt.title(\"Confusion Matrix\")\n",
    "plt.show()"
   ]
  },
  {
   "cell_type": "code",
   "execution_count": 37,
   "metadata": {},
   "outputs": [
    {
     "name": "stdout",
     "output_type": "stream",
     "text": [
      "adding fire_images\n",
      "adding non_fire_images\n",
      "490\n",
      "488\n",
      "Train: (587, 299, 299, 1) Test: (244, 299, 299, 1) Validation: (147, 299, 299, 1)\n"
     ]
    }
   ],
   "source": [
    "#Create 2D grayscale training data\n",
    "INPUT_SHAPE = (299,299, 1)\n",
    "training_data = create_training_data()\n",
    "\n",
    "train_data, test_data, validation_data = split_data(training_data)\n",
    "x_train, y_train = reshape_data_2D(train_data, INPUT_SHAPE)\n",
    "x_test, y_test = reshape_data_2D(test_data, INPUT_SHAPE)\n",
    "x_val, y_val = reshape_data_2D(validation_data, INPUT_SHAPE)\n",
    "print(\"Train:\", x_train.shape, \"Test:\", x_test.shape, \"Validation:\", x_val.shape)"
   ]
  },
  {
   "cell_type": "code",
   "execution_count": 38,
   "metadata": {},
   "outputs": [],
   "source": [
    "#Building a more complex model\n",
    "model = Sequential()\n",
    "model.add(Conv2D(128,(2,2),input_shape = INPUT_SHAPE,activation='relu'))\n",
    "model.add(Conv2D(64,(2,2),activation='relu'))\n",
    "model.add(MaxPooling2D())\n",
    "model.add(Conv2D(32,(2,2),activation='relu'))\n",
    "model.add(MaxPooling2D())\n",
    "model.add(Flatten())\n",
    "model.add(Dense(NUM_CLASSES, activation='softmax'))\n",
    "\n",
    "opt = SGD(lr=0.001)\n",
    "model.compile(optimizer=opt, loss='categorical_crossentropy', metrics=['accuracy'])\n",
    "callbacks = [EarlyStopping(monitor = 'val_loss',patience = 5,restore_best_weights=True)]"
   ]
  },
  {
   "cell_type": "code",
   "execution_count": 39,
   "metadata": {
    "scrolled": true
   },
   "outputs": [
    {
     "name": "stdout",
     "output_type": "stream",
     "text": [
      "Epoch 1/100\n",
      "19/19 [==============================] - 120s 6s/step - loss: 0.6854 - accuracy: 0.5332 - val_loss: 0.6847 - val_accuracy: 0.5034\n",
      "Epoch 2/100\n",
      "19/19 [==============================] - 118s 6s/step - loss: 0.6778 - accuracy: 0.5128 - val_loss: 0.6803 - val_accuracy: 0.5238\n",
      "Epoch 3/100\n",
      "19/19 [==============================] - 121s 6s/step - loss: 0.6723 - accuracy: 0.5622 - val_loss: 0.6775 - val_accuracy: 0.5034\n",
      "Epoch 4/100\n",
      "19/19 [==============================] - 122s 6s/step - loss: 0.6672 - accuracy: 0.5417 - val_loss: 0.6722 - val_accuracy: 0.5646\n",
      "Epoch 5/100\n",
      "16/19 [========================>.....] - ETA: 17s - loss: 0.6616 - accuracy: 0.5898"
     ]
    },
    {
     "ename": "KeyboardInterrupt",
     "evalue": "",
     "output_type": "error",
     "traceback": [
      "\u001b[1;31m---------------------------------------------------------------------------\u001b[0m",
      "\u001b[1;31mKeyboardInterrupt\u001b[0m                         Traceback (most recent call last)",
      "\u001b[1;32m<ipython-input-39-5cd6cdd4f882>\u001b[0m in \u001b[0;36m<module>\u001b[1;34m\u001b[0m\n\u001b[0;32m      1\u001b[0m \u001b[1;31m#Train complex model on grayscale images\u001b[0m\u001b[1;33m\u001b[0m\u001b[1;33m\u001b[0m\u001b[1;33m\u001b[0m\u001b[0m\n\u001b[1;32m----> 2\u001b[1;33m \u001b[0mhistory\u001b[0m \u001b[1;33m=\u001b[0m \u001b[0mmodel\u001b[0m\u001b[1;33m.\u001b[0m\u001b[0mfit\u001b[0m\u001b[1;33m(\u001b[0m\u001b[0mx_train\u001b[0m\u001b[1;33m,\u001b[0m\u001b[0my_train\u001b[0m\u001b[1;33m,\u001b[0m\u001b[0mvalidation_data\u001b[0m\u001b[1;33m=\u001b[0m\u001b[1;33m(\u001b[0m\u001b[0mx_val\u001b[0m\u001b[1;33m,\u001b[0m \u001b[0my_val\u001b[0m\u001b[1;33m)\u001b[0m\u001b[1;33m,\u001b[0m\u001b[0mepochs\u001b[0m \u001b[1;33m=\u001b[0m \u001b[1;36m100\u001b[0m\u001b[1;33m,\u001b[0m\u001b[0mbatch_size\u001b[0m \u001b[1;33m=\u001b[0m \u001b[1;36m32\u001b[0m\u001b[1;33m,\u001b[0m\u001b[0mcallbacks\u001b[0m \u001b[1;33m=\u001b[0m \u001b[0mcallbacks\u001b[0m\u001b[1;33m)\u001b[0m\u001b[1;33m\u001b[0m\u001b[1;33m\u001b[0m\u001b[0m\n\u001b[0m\u001b[0;32m      3\u001b[0m \u001b[1;33m\u001b[0m\u001b[0m\n\u001b[0;32m      4\u001b[0m \u001b[1;31m# Report Results\u001b[0m\u001b[1;33m\u001b[0m\u001b[1;33m\u001b[0m\u001b[1;33m\u001b[0m\u001b[0m\n\u001b[0;32m      5\u001b[0m \u001b[1;31m# print(history.history)\u001b[0m\u001b[1;33m\u001b[0m\u001b[1;33m\u001b[0m\u001b[1;33m\u001b[0m\u001b[0m\n",
      "\u001b[1;32m~\\anaconda3\\lib\\site-packages\\tensorflow\\python\\keras\\engine\\training.py\u001b[0m in \u001b[0;36m_method_wrapper\u001b[1;34m(self, *args, **kwargs)\u001b[0m\n\u001b[0;32m    106\u001b[0m   \u001b[1;32mdef\u001b[0m \u001b[0m_method_wrapper\u001b[0m\u001b[1;33m(\u001b[0m\u001b[0mself\u001b[0m\u001b[1;33m,\u001b[0m \u001b[1;33m*\u001b[0m\u001b[0margs\u001b[0m\u001b[1;33m,\u001b[0m \u001b[1;33m**\u001b[0m\u001b[0mkwargs\u001b[0m\u001b[1;33m)\u001b[0m\u001b[1;33m:\u001b[0m\u001b[1;33m\u001b[0m\u001b[1;33m\u001b[0m\u001b[0m\n\u001b[0;32m    107\u001b[0m     \u001b[1;32mif\u001b[0m \u001b[1;32mnot\u001b[0m \u001b[0mself\u001b[0m\u001b[1;33m.\u001b[0m\u001b[0m_in_multi_worker_mode\u001b[0m\u001b[1;33m(\u001b[0m\u001b[1;33m)\u001b[0m\u001b[1;33m:\u001b[0m  \u001b[1;31m# pylint: disable=protected-access\u001b[0m\u001b[1;33m\u001b[0m\u001b[1;33m\u001b[0m\u001b[0m\n\u001b[1;32m--> 108\u001b[1;33m       \u001b[1;32mreturn\u001b[0m \u001b[0mmethod\u001b[0m\u001b[1;33m(\u001b[0m\u001b[0mself\u001b[0m\u001b[1;33m,\u001b[0m \u001b[1;33m*\u001b[0m\u001b[0margs\u001b[0m\u001b[1;33m,\u001b[0m \u001b[1;33m**\u001b[0m\u001b[0mkwargs\u001b[0m\u001b[1;33m)\u001b[0m\u001b[1;33m\u001b[0m\u001b[1;33m\u001b[0m\u001b[0m\n\u001b[0m\u001b[0;32m    109\u001b[0m \u001b[1;33m\u001b[0m\u001b[0m\n\u001b[0;32m    110\u001b[0m     \u001b[1;31m# Running inside `run_distribute_coordinator` already.\u001b[0m\u001b[1;33m\u001b[0m\u001b[1;33m\u001b[0m\u001b[1;33m\u001b[0m\u001b[0m\n",
      "\u001b[1;32m~\\anaconda3\\lib\\site-packages\\tensorflow\\python\\keras\\engine\\training.py\u001b[0m in \u001b[0;36mfit\u001b[1;34m(self, x, y, batch_size, epochs, verbose, callbacks, validation_split, validation_data, shuffle, class_weight, sample_weight, initial_epoch, steps_per_epoch, validation_steps, validation_batch_size, validation_freq, max_queue_size, workers, use_multiprocessing)\u001b[0m\n\u001b[0;32m   1096\u001b[0m                 batch_size=batch_size):\n\u001b[0;32m   1097\u001b[0m               \u001b[0mcallbacks\u001b[0m\u001b[1;33m.\u001b[0m\u001b[0mon_train_batch_begin\u001b[0m\u001b[1;33m(\u001b[0m\u001b[0mstep\u001b[0m\u001b[1;33m)\u001b[0m\u001b[1;33m\u001b[0m\u001b[1;33m\u001b[0m\u001b[0m\n\u001b[1;32m-> 1098\u001b[1;33m               \u001b[0mtmp_logs\u001b[0m \u001b[1;33m=\u001b[0m \u001b[0mtrain_function\u001b[0m\u001b[1;33m(\u001b[0m\u001b[0miterator\u001b[0m\u001b[1;33m)\u001b[0m\u001b[1;33m\u001b[0m\u001b[1;33m\u001b[0m\u001b[0m\n\u001b[0m\u001b[0;32m   1099\u001b[0m               \u001b[1;32mif\u001b[0m \u001b[0mdata_handler\u001b[0m\u001b[1;33m.\u001b[0m\u001b[0mshould_sync\u001b[0m\u001b[1;33m:\u001b[0m\u001b[1;33m\u001b[0m\u001b[1;33m\u001b[0m\u001b[0m\n\u001b[0;32m   1100\u001b[0m                 \u001b[0mcontext\u001b[0m\u001b[1;33m.\u001b[0m\u001b[0masync_wait\u001b[0m\u001b[1;33m(\u001b[0m\u001b[1;33m)\u001b[0m\u001b[1;33m\u001b[0m\u001b[1;33m\u001b[0m\u001b[0m\n",
      "\u001b[1;32m~\\anaconda3\\lib\\site-packages\\tensorflow\\python\\eager\\def_function.py\u001b[0m in \u001b[0;36m__call__\u001b[1;34m(self, *args, **kwds)\u001b[0m\n\u001b[0;32m    778\u001b[0m       \u001b[1;32melse\u001b[0m\u001b[1;33m:\u001b[0m\u001b[1;33m\u001b[0m\u001b[1;33m\u001b[0m\u001b[0m\n\u001b[0;32m    779\u001b[0m         \u001b[0mcompiler\u001b[0m \u001b[1;33m=\u001b[0m \u001b[1;34m\"nonXla\"\u001b[0m\u001b[1;33m\u001b[0m\u001b[1;33m\u001b[0m\u001b[0m\n\u001b[1;32m--> 780\u001b[1;33m         \u001b[0mresult\u001b[0m \u001b[1;33m=\u001b[0m \u001b[0mself\u001b[0m\u001b[1;33m.\u001b[0m\u001b[0m_call\u001b[0m\u001b[1;33m(\u001b[0m\u001b[1;33m*\u001b[0m\u001b[0margs\u001b[0m\u001b[1;33m,\u001b[0m \u001b[1;33m**\u001b[0m\u001b[0mkwds\u001b[0m\u001b[1;33m)\u001b[0m\u001b[1;33m\u001b[0m\u001b[1;33m\u001b[0m\u001b[0m\n\u001b[0m\u001b[0;32m    781\u001b[0m \u001b[1;33m\u001b[0m\u001b[0m\n\u001b[0;32m    782\u001b[0m       \u001b[0mnew_tracing_count\u001b[0m \u001b[1;33m=\u001b[0m \u001b[0mself\u001b[0m\u001b[1;33m.\u001b[0m\u001b[0m_get_tracing_count\u001b[0m\u001b[1;33m(\u001b[0m\u001b[1;33m)\u001b[0m\u001b[1;33m\u001b[0m\u001b[1;33m\u001b[0m\u001b[0m\n",
      "\u001b[1;32m~\\anaconda3\\lib\\site-packages\\tensorflow\\python\\eager\\def_function.py\u001b[0m in \u001b[0;36m_call\u001b[1;34m(self, *args, **kwds)\u001b[0m\n\u001b[0;32m    805\u001b[0m       \u001b[1;31m# In this case we have created variables on the first call, so we run the\u001b[0m\u001b[1;33m\u001b[0m\u001b[1;33m\u001b[0m\u001b[1;33m\u001b[0m\u001b[0m\n\u001b[0;32m    806\u001b[0m       \u001b[1;31m# defunned version which is guaranteed to never create variables.\u001b[0m\u001b[1;33m\u001b[0m\u001b[1;33m\u001b[0m\u001b[1;33m\u001b[0m\u001b[0m\n\u001b[1;32m--> 807\u001b[1;33m       \u001b[1;32mreturn\u001b[0m \u001b[0mself\u001b[0m\u001b[1;33m.\u001b[0m\u001b[0m_stateless_fn\u001b[0m\u001b[1;33m(\u001b[0m\u001b[1;33m*\u001b[0m\u001b[0margs\u001b[0m\u001b[1;33m,\u001b[0m \u001b[1;33m**\u001b[0m\u001b[0mkwds\u001b[0m\u001b[1;33m)\u001b[0m  \u001b[1;31m# pylint: disable=not-callable\u001b[0m\u001b[1;33m\u001b[0m\u001b[1;33m\u001b[0m\u001b[0m\n\u001b[0m\u001b[0;32m    808\u001b[0m     \u001b[1;32melif\u001b[0m \u001b[0mself\u001b[0m\u001b[1;33m.\u001b[0m\u001b[0m_stateful_fn\u001b[0m \u001b[1;32mis\u001b[0m \u001b[1;32mnot\u001b[0m \u001b[1;32mNone\u001b[0m\u001b[1;33m:\u001b[0m\u001b[1;33m\u001b[0m\u001b[1;33m\u001b[0m\u001b[0m\n\u001b[0;32m    809\u001b[0m       \u001b[1;31m# Release the lock early so that multiple threads can perform the call\u001b[0m\u001b[1;33m\u001b[0m\u001b[1;33m\u001b[0m\u001b[1;33m\u001b[0m\u001b[0m\n",
      "\u001b[1;32m~\\anaconda3\\lib\\site-packages\\tensorflow\\python\\eager\\function.py\u001b[0m in \u001b[0;36m__call__\u001b[1;34m(self, *args, **kwargs)\u001b[0m\n\u001b[0;32m   2827\u001b[0m     \u001b[1;32mwith\u001b[0m \u001b[0mself\u001b[0m\u001b[1;33m.\u001b[0m\u001b[0m_lock\u001b[0m\u001b[1;33m:\u001b[0m\u001b[1;33m\u001b[0m\u001b[1;33m\u001b[0m\u001b[0m\n\u001b[0;32m   2828\u001b[0m       \u001b[0mgraph_function\u001b[0m\u001b[1;33m,\u001b[0m \u001b[0margs\u001b[0m\u001b[1;33m,\u001b[0m \u001b[0mkwargs\u001b[0m \u001b[1;33m=\u001b[0m \u001b[0mself\u001b[0m\u001b[1;33m.\u001b[0m\u001b[0m_maybe_define_function\u001b[0m\u001b[1;33m(\u001b[0m\u001b[0margs\u001b[0m\u001b[1;33m,\u001b[0m \u001b[0mkwargs\u001b[0m\u001b[1;33m)\u001b[0m\u001b[1;33m\u001b[0m\u001b[1;33m\u001b[0m\u001b[0m\n\u001b[1;32m-> 2829\u001b[1;33m     \u001b[1;32mreturn\u001b[0m \u001b[0mgraph_function\u001b[0m\u001b[1;33m.\u001b[0m\u001b[0m_filtered_call\u001b[0m\u001b[1;33m(\u001b[0m\u001b[0margs\u001b[0m\u001b[1;33m,\u001b[0m \u001b[0mkwargs\u001b[0m\u001b[1;33m)\u001b[0m  \u001b[1;31m# pylint: disable=protected-access\u001b[0m\u001b[1;33m\u001b[0m\u001b[1;33m\u001b[0m\u001b[0m\n\u001b[0m\u001b[0;32m   2830\u001b[0m \u001b[1;33m\u001b[0m\u001b[0m\n\u001b[0;32m   2831\u001b[0m   \u001b[1;33m@\u001b[0m\u001b[0mproperty\u001b[0m\u001b[1;33m\u001b[0m\u001b[1;33m\u001b[0m\u001b[0m\n",
      "\u001b[1;32m~\\anaconda3\\lib\\site-packages\\tensorflow\\python\\eager\\function.py\u001b[0m in \u001b[0;36m_filtered_call\u001b[1;34m(self, args, kwargs, cancellation_manager)\u001b[0m\n\u001b[0;32m   1846\u001b[0m                            resource_variable_ops.BaseResourceVariable))],\n\u001b[0;32m   1847\u001b[0m         \u001b[0mcaptured_inputs\u001b[0m\u001b[1;33m=\u001b[0m\u001b[0mself\u001b[0m\u001b[1;33m.\u001b[0m\u001b[0mcaptured_inputs\u001b[0m\u001b[1;33m,\u001b[0m\u001b[1;33m\u001b[0m\u001b[1;33m\u001b[0m\u001b[0m\n\u001b[1;32m-> 1848\u001b[1;33m         cancellation_manager=cancellation_manager)\n\u001b[0m\u001b[0;32m   1849\u001b[0m \u001b[1;33m\u001b[0m\u001b[0m\n\u001b[0;32m   1850\u001b[0m   \u001b[1;32mdef\u001b[0m \u001b[0m_call_flat\u001b[0m\u001b[1;33m(\u001b[0m\u001b[0mself\u001b[0m\u001b[1;33m,\u001b[0m \u001b[0margs\u001b[0m\u001b[1;33m,\u001b[0m \u001b[0mcaptured_inputs\u001b[0m\u001b[1;33m,\u001b[0m \u001b[0mcancellation_manager\u001b[0m\u001b[1;33m=\u001b[0m\u001b[1;32mNone\u001b[0m\u001b[1;33m)\u001b[0m\u001b[1;33m:\u001b[0m\u001b[1;33m\u001b[0m\u001b[1;33m\u001b[0m\u001b[0m\n",
      "\u001b[1;32m~\\anaconda3\\lib\\site-packages\\tensorflow\\python\\eager\\function.py\u001b[0m in \u001b[0;36m_call_flat\u001b[1;34m(self, args, captured_inputs, cancellation_manager)\u001b[0m\n\u001b[0;32m   1922\u001b[0m       \u001b[1;31m# No tape is watching; skip to running the function.\u001b[0m\u001b[1;33m\u001b[0m\u001b[1;33m\u001b[0m\u001b[1;33m\u001b[0m\u001b[0m\n\u001b[0;32m   1923\u001b[0m       return self._build_call_outputs(self._inference_function.call(\n\u001b[1;32m-> 1924\u001b[1;33m           ctx, args, cancellation_manager=cancellation_manager))\n\u001b[0m\u001b[0;32m   1925\u001b[0m     forward_backward = self._select_forward_and_backward_functions(\n\u001b[0;32m   1926\u001b[0m         \u001b[0margs\u001b[0m\u001b[1;33m,\u001b[0m\u001b[1;33m\u001b[0m\u001b[1;33m\u001b[0m\u001b[0m\n",
      "\u001b[1;32m~\\anaconda3\\lib\\site-packages\\tensorflow\\python\\eager\\function.py\u001b[0m in \u001b[0;36mcall\u001b[1;34m(self, ctx, args, cancellation_manager)\u001b[0m\n\u001b[0;32m    548\u001b[0m               \u001b[0minputs\u001b[0m\u001b[1;33m=\u001b[0m\u001b[0margs\u001b[0m\u001b[1;33m,\u001b[0m\u001b[1;33m\u001b[0m\u001b[1;33m\u001b[0m\u001b[0m\n\u001b[0;32m    549\u001b[0m               \u001b[0mattrs\u001b[0m\u001b[1;33m=\u001b[0m\u001b[0mattrs\u001b[0m\u001b[1;33m,\u001b[0m\u001b[1;33m\u001b[0m\u001b[1;33m\u001b[0m\u001b[0m\n\u001b[1;32m--> 550\u001b[1;33m               ctx=ctx)\n\u001b[0m\u001b[0;32m    551\u001b[0m         \u001b[1;32melse\u001b[0m\u001b[1;33m:\u001b[0m\u001b[1;33m\u001b[0m\u001b[1;33m\u001b[0m\u001b[0m\n\u001b[0;32m    552\u001b[0m           outputs = execute.execute_with_cancellation(\n",
      "\u001b[1;32m~\\anaconda3\\lib\\site-packages\\tensorflow\\python\\eager\\execute.py\u001b[0m in \u001b[0;36mquick_execute\u001b[1;34m(op_name, num_outputs, inputs, attrs, ctx, name)\u001b[0m\n\u001b[0;32m     58\u001b[0m     \u001b[0mctx\u001b[0m\u001b[1;33m.\u001b[0m\u001b[0mensure_initialized\u001b[0m\u001b[1;33m(\u001b[0m\u001b[1;33m)\u001b[0m\u001b[1;33m\u001b[0m\u001b[1;33m\u001b[0m\u001b[0m\n\u001b[0;32m     59\u001b[0m     tensors = pywrap_tfe.TFE_Py_Execute(ctx._handle, device_name, op_name,\n\u001b[1;32m---> 60\u001b[1;33m                                         inputs, attrs, num_outputs)\n\u001b[0m\u001b[0;32m     61\u001b[0m   \u001b[1;32mexcept\u001b[0m \u001b[0mcore\u001b[0m\u001b[1;33m.\u001b[0m\u001b[0m_NotOkStatusException\u001b[0m \u001b[1;32mas\u001b[0m \u001b[0me\u001b[0m\u001b[1;33m:\u001b[0m\u001b[1;33m\u001b[0m\u001b[1;33m\u001b[0m\u001b[0m\n\u001b[0;32m     62\u001b[0m     \u001b[1;32mif\u001b[0m \u001b[0mname\u001b[0m \u001b[1;32mis\u001b[0m \u001b[1;32mnot\u001b[0m \u001b[1;32mNone\u001b[0m\u001b[1;33m:\u001b[0m\u001b[1;33m\u001b[0m\u001b[1;33m\u001b[0m\u001b[0m\n",
      "\u001b[1;31mKeyboardInterrupt\u001b[0m: "
     ]
    }
   ],
   "source": [
    "#Train complex model on grayscale images\n",
    "history = model.fit(x_train,y_train,validation_data=(x_val, y_val),epochs = 20,batch_size = 64,callbacks = callbacks)\n",
    "\n",
    "# Report Results\n",
    "# print(history.history)\n",
    "y_pred = model.predict(x_test)\n",
    "score = model.evaluate(x_test, y_test, verbose=2)\n",
    "print(f'Test loss: {score[0]} / Test accuracy: {score[1]}')"
   ]
  },
  {
   "cell_type": "code",
   "execution_count": 42,
   "metadata": {},
   "outputs": [
    {
     "name": "stdout",
     "output_type": "stream",
     "text": [
      "adding fire_images\n"
     ]
    },
    {
     "name": "stderr",
     "output_type": "stream",
     "text": [
      "C:\\Users\\kaitl\\anaconda3\\lib\\site-packages\\ipykernel_launcher.py:54: RuntimeWarning: divide by zero encountered in true_divide\n",
      "C:\\Users\\kaitl\\anaconda3\\lib\\site-packages\\ipykernel_launcher.py:54: RuntimeWarning: invalid value encountered in true_divide\n"
     ]
    },
    {
     "name": "stdout",
     "output_type": "stream",
     "text": [
      "adding non_fire_images\n",
      "487\n",
      "478\n",
      "Train: (579, 299, 299, 1) Test: (241, 299, 299, 1) Validation: (145, 299, 299, 1)\n"
     ]
    }
   ],
   "source": [
    "#Create 2D color ratio training data\n",
    "INPUT_SHAPE = (299,299, 1)\n",
    "training_data = create_training_data_CR()\n",
    "\n",
    "train_data, test_data, validation_data = split_data(training_data)\n",
    "x_train, y_train = reshape_data_2D(train_data, INPUT_SHAPE)\n",
    "x_test, y_test = reshape_data_2D(test_data, INPUT_SHAPE)\n",
    "x_val, y_val = reshape_data_2D(validation_data, INPUT_SHAPE)\n",
    "print(\"Train:\", x_train.shape, \"Test:\", x_test.shape, \"Validation:\", x_val.shape)"
   ]
  },
  {
   "cell_type": "code",
   "execution_count": 43,
   "metadata": {
    "scrolled": true
   },
   "outputs": [
    {
     "name": "stdout",
     "output_type": "stream",
     "text": [
      "Epoch 1/20\n",
      "10/10 [==============================] - 109s 11s/step - loss: 0.6931 - accuracy: 0.5043 - val_loss: 0.6680 - val_accuracy: 0.5918\n",
      "Epoch 2/20\n",
      " 8/10 [=======================>......] - ETA: 22s - loss: 0.6932 - accuracy: 0.4961"
     ]
    },
    {
     "ename": "KeyboardInterrupt",
     "evalue": "",
     "output_type": "error",
     "traceback": [
      "\u001b[1;31m---------------------------------------------------------------------------\u001b[0m",
      "\u001b[1;31mKeyboardInterrupt\u001b[0m                         Traceback (most recent call last)",
      "\u001b[1;32m<ipython-input-43-981b5b563be0>\u001b[0m in \u001b[0;36m<module>\u001b[1;34m\u001b[0m\n\u001b[0;32m      1\u001b[0m \u001b[1;31m#Train complex model on color ratio images\u001b[0m\u001b[1;33m\u001b[0m\u001b[1;33m\u001b[0m\u001b[1;33m\u001b[0m\u001b[0m\n\u001b[1;32m----> 2\u001b[1;33m \u001b[0mhistory\u001b[0m \u001b[1;33m=\u001b[0m \u001b[0mmodel\u001b[0m\u001b[1;33m.\u001b[0m\u001b[0mfit\u001b[0m\u001b[1;33m(\u001b[0m\u001b[0mx_train\u001b[0m\u001b[1;33m,\u001b[0m\u001b[0my_train\u001b[0m\u001b[1;33m,\u001b[0m\u001b[0mvalidation_data\u001b[0m\u001b[1;33m=\u001b[0m\u001b[1;33m(\u001b[0m\u001b[0mx_val\u001b[0m\u001b[1;33m,\u001b[0m \u001b[0my_val\u001b[0m\u001b[1;33m)\u001b[0m\u001b[1;33m,\u001b[0m\u001b[0mepochs\u001b[0m \u001b[1;33m=\u001b[0m \u001b[1;36m20\u001b[0m\u001b[1;33m,\u001b[0m\u001b[0mbatch_size\u001b[0m \u001b[1;33m=\u001b[0m \u001b[1;36m64\u001b[0m\u001b[1;33m,\u001b[0m\u001b[0mcallbacks\u001b[0m \u001b[1;33m=\u001b[0m \u001b[0mcallbacks\u001b[0m\u001b[1;33m)\u001b[0m\u001b[1;33m\u001b[0m\u001b[1;33m\u001b[0m\u001b[0m\n\u001b[0m\u001b[0;32m      3\u001b[0m \u001b[1;33m\u001b[0m\u001b[0m\n\u001b[0;32m      4\u001b[0m \u001b[1;31m# Report Results\u001b[0m\u001b[1;33m\u001b[0m\u001b[1;33m\u001b[0m\u001b[1;33m\u001b[0m\u001b[0m\n\u001b[0;32m      5\u001b[0m \u001b[1;31m# print(history.history)\u001b[0m\u001b[1;33m\u001b[0m\u001b[1;33m\u001b[0m\u001b[1;33m\u001b[0m\u001b[0m\n",
      "\u001b[1;32m~\\anaconda3\\lib\\site-packages\\tensorflow\\python\\keras\\engine\\training.py\u001b[0m in \u001b[0;36m_method_wrapper\u001b[1;34m(self, *args, **kwargs)\u001b[0m\n\u001b[0;32m    106\u001b[0m   \u001b[1;32mdef\u001b[0m \u001b[0m_method_wrapper\u001b[0m\u001b[1;33m(\u001b[0m\u001b[0mself\u001b[0m\u001b[1;33m,\u001b[0m \u001b[1;33m*\u001b[0m\u001b[0margs\u001b[0m\u001b[1;33m,\u001b[0m \u001b[1;33m**\u001b[0m\u001b[0mkwargs\u001b[0m\u001b[1;33m)\u001b[0m\u001b[1;33m:\u001b[0m\u001b[1;33m\u001b[0m\u001b[1;33m\u001b[0m\u001b[0m\n\u001b[0;32m    107\u001b[0m     \u001b[1;32mif\u001b[0m \u001b[1;32mnot\u001b[0m \u001b[0mself\u001b[0m\u001b[1;33m.\u001b[0m\u001b[0m_in_multi_worker_mode\u001b[0m\u001b[1;33m(\u001b[0m\u001b[1;33m)\u001b[0m\u001b[1;33m:\u001b[0m  \u001b[1;31m# pylint: disable=protected-access\u001b[0m\u001b[1;33m\u001b[0m\u001b[1;33m\u001b[0m\u001b[0m\n\u001b[1;32m--> 108\u001b[1;33m       \u001b[1;32mreturn\u001b[0m \u001b[0mmethod\u001b[0m\u001b[1;33m(\u001b[0m\u001b[0mself\u001b[0m\u001b[1;33m,\u001b[0m \u001b[1;33m*\u001b[0m\u001b[0margs\u001b[0m\u001b[1;33m,\u001b[0m \u001b[1;33m**\u001b[0m\u001b[0mkwargs\u001b[0m\u001b[1;33m)\u001b[0m\u001b[1;33m\u001b[0m\u001b[1;33m\u001b[0m\u001b[0m\n\u001b[0m\u001b[0;32m    109\u001b[0m \u001b[1;33m\u001b[0m\u001b[0m\n\u001b[0;32m    110\u001b[0m     \u001b[1;31m# Running inside `run_distribute_coordinator` already.\u001b[0m\u001b[1;33m\u001b[0m\u001b[1;33m\u001b[0m\u001b[1;33m\u001b[0m\u001b[0m\n",
      "\u001b[1;32m~\\anaconda3\\lib\\site-packages\\tensorflow\\python\\keras\\engine\\training.py\u001b[0m in \u001b[0;36mfit\u001b[1;34m(self, x, y, batch_size, epochs, verbose, callbacks, validation_split, validation_data, shuffle, class_weight, sample_weight, initial_epoch, steps_per_epoch, validation_steps, validation_batch_size, validation_freq, max_queue_size, workers, use_multiprocessing)\u001b[0m\n\u001b[0;32m   1096\u001b[0m                 batch_size=batch_size):\n\u001b[0;32m   1097\u001b[0m               \u001b[0mcallbacks\u001b[0m\u001b[1;33m.\u001b[0m\u001b[0mon_train_batch_begin\u001b[0m\u001b[1;33m(\u001b[0m\u001b[0mstep\u001b[0m\u001b[1;33m)\u001b[0m\u001b[1;33m\u001b[0m\u001b[1;33m\u001b[0m\u001b[0m\n\u001b[1;32m-> 1098\u001b[1;33m               \u001b[0mtmp_logs\u001b[0m \u001b[1;33m=\u001b[0m \u001b[0mtrain_function\u001b[0m\u001b[1;33m(\u001b[0m\u001b[0miterator\u001b[0m\u001b[1;33m)\u001b[0m\u001b[1;33m\u001b[0m\u001b[1;33m\u001b[0m\u001b[0m\n\u001b[0m\u001b[0;32m   1099\u001b[0m               \u001b[1;32mif\u001b[0m \u001b[0mdata_handler\u001b[0m\u001b[1;33m.\u001b[0m\u001b[0mshould_sync\u001b[0m\u001b[1;33m:\u001b[0m\u001b[1;33m\u001b[0m\u001b[1;33m\u001b[0m\u001b[0m\n\u001b[0;32m   1100\u001b[0m                 \u001b[0mcontext\u001b[0m\u001b[1;33m.\u001b[0m\u001b[0masync_wait\u001b[0m\u001b[1;33m(\u001b[0m\u001b[1;33m)\u001b[0m\u001b[1;33m\u001b[0m\u001b[1;33m\u001b[0m\u001b[0m\n",
      "\u001b[1;32m~\\anaconda3\\lib\\site-packages\\tensorflow\\python\\eager\\def_function.py\u001b[0m in \u001b[0;36m__call__\u001b[1;34m(self, *args, **kwds)\u001b[0m\n\u001b[0;32m    778\u001b[0m       \u001b[1;32melse\u001b[0m\u001b[1;33m:\u001b[0m\u001b[1;33m\u001b[0m\u001b[1;33m\u001b[0m\u001b[0m\n\u001b[0;32m    779\u001b[0m         \u001b[0mcompiler\u001b[0m \u001b[1;33m=\u001b[0m \u001b[1;34m\"nonXla\"\u001b[0m\u001b[1;33m\u001b[0m\u001b[1;33m\u001b[0m\u001b[0m\n\u001b[1;32m--> 780\u001b[1;33m         \u001b[0mresult\u001b[0m \u001b[1;33m=\u001b[0m \u001b[0mself\u001b[0m\u001b[1;33m.\u001b[0m\u001b[0m_call\u001b[0m\u001b[1;33m(\u001b[0m\u001b[1;33m*\u001b[0m\u001b[0margs\u001b[0m\u001b[1;33m,\u001b[0m \u001b[1;33m**\u001b[0m\u001b[0mkwds\u001b[0m\u001b[1;33m)\u001b[0m\u001b[1;33m\u001b[0m\u001b[1;33m\u001b[0m\u001b[0m\n\u001b[0m\u001b[0;32m    781\u001b[0m \u001b[1;33m\u001b[0m\u001b[0m\n\u001b[0;32m    782\u001b[0m       \u001b[0mnew_tracing_count\u001b[0m \u001b[1;33m=\u001b[0m \u001b[0mself\u001b[0m\u001b[1;33m.\u001b[0m\u001b[0m_get_tracing_count\u001b[0m\u001b[1;33m(\u001b[0m\u001b[1;33m)\u001b[0m\u001b[1;33m\u001b[0m\u001b[1;33m\u001b[0m\u001b[0m\n",
      "\u001b[1;32m~\\anaconda3\\lib\\site-packages\\tensorflow\\python\\eager\\def_function.py\u001b[0m in \u001b[0;36m_call\u001b[1;34m(self, *args, **kwds)\u001b[0m\n\u001b[0;32m    805\u001b[0m       \u001b[1;31m# In this case we have created variables on the first call, so we run the\u001b[0m\u001b[1;33m\u001b[0m\u001b[1;33m\u001b[0m\u001b[1;33m\u001b[0m\u001b[0m\n\u001b[0;32m    806\u001b[0m       \u001b[1;31m# defunned version which is guaranteed to never create variables.\u001b[0m\u001b[1;33m\u001b[0m\u001b[1;33m\u001b[0m\u001b[1;33m\u001b[0m\u001b[0m\n\u001b[1;32m--> 807\u001b[1;33m       \u001b[1;32mreturn\u001b[0m \u001b[0mself\u001b[0m\u001b[1;33m.\u001b[0m\u001b[0m_stateless_fn\u001b[0m\u001b[1;33m(\u001b[0m\u001b[1;33m*\u001b[0m\u001b[0margs\u001b[0m\u001b[1;33m,\u001b[0m \u001b[1;33m**\u001b[0m\u001b[0mkwds\u001b[0m\u001b[1;33m)\u001b[0m  \u001b[1;31m# pylint: disable=not-callable\u001b[0m\u001b[1;33m\u001b[0m\u001b[1;33m\u001b[0m\u001b[0m\n\u001b[0m\u001b[0;32m    808\u001b[0m     \u001b[1;32melif\u001b[0m \u001b[0mself\u001b[0m\u001b[1;33m.\u001b[0m\u001b[0m_stateful_fn\u001b[0m \u001b[1;32mis\u001b[0m \u001b[1;32mnot\u001b[0m \u001b[1;32mNone\u001b[0m\u001b[1;33m:\u001b[0m\u001b[1;33m\u001b[0m\u001b[1;33m\u001b[0m\u001b[0m\n\u001b[0;32m    809\u001b[0m       \u001b[1;31m# Release the lock early so that multiple threads can perform the call\u001b[0m\u001b[1;33m\u001b[0m\u001b[1;33m\u001b[0m\u001b[1;33m\u001b[0m\u001b[0m\n",
      "\u001b[1;32m~\\anaconda3\\lib\\site-packages\\tensorflow\\python\\eager\\function.py\u001b[0m in \u001b[0;36m__call__\u001b[1;34m(self, *args, **kwargs)\u001b[0m\n\u001b[0;32m   2827\u001b[0m     \u001b[1;32mwith\u001b[0m \u001b[0mself\u001b[0m\u001b[1;33m.\u001b[0m\u001b[0m_lock\u001b[0m\u001b[1;33m:\u001b[0m\u001b[1;33m\u001b[0m\u001b[1;33m\u001b[0m\u001b[0m\n\u001b[0;32m   2828\u001b[0m       \u001b[0mgraph_function\u001b[0m\u001b[1;33m,\u001b[0m \u001b[0margs\u001b[0m\u001b[1;33m,\u001b[0m \u001b[0mkwargs\u001b[0m \u001b[1;33m=\u001b[0m \u001b[0mself\u001b[0m\u001b[1;33m.\u001b[0m\u001b[0m_maybe_define_function\u001b[0m\u001b[1;33m(\u001b[0m\u001b[0margs\u001b[0m\u001b[1;33m,\u001b[0m \u001b[0mkwargs\u001b[0m\u001b[1;33m)\u001b[0m\u001b[1;33m\u001b[0m\u001b[1;33m\u001b[0m\u001b[0m\n\u001b[1;32m-> 2829\u001b[1;33m     \u001b[1;32mreturn\u001b[0m \u001b[0mgraph_function\u001b[0m\u001b[1;33m.\u001b[0m\u001b[0m_filtered_call\u001b[0m\u001b[1;33m(\u001b[0m\u001b[0margs\u001b[0m\u001b[1;33m,\u001b[0m \u001b[0mkwargs\u001b[0m\u001b[1;33m)\u001b[0m  \u001b[1;31m# pylint: disable=protected-access\u001b[0m\u001b[1;33m\u001b[0m\u001b[1;33m\u001b[0m\u001b[0m\n\u001b[0m\u001b[0;32m   2830\u001b[0m \u001b[1;33m\u001b[0m\u001b[0m\n\u001b[0;32m   2831\u001b[0m   \u001b[1;33m@\u001b[0m\u001b[0mproperty\u001b[0m\u001b[1;33m\u001b[0m\u001b[1;33m\u001b[0m\u001b[0m\n",
      "\u001b[1;32m~\\anaconda3\\lib\\site-packages\\tensorflow\\python\\eager\\function.py\u001b[0m in \u001b[0;36m_filtered_call\u001b[1;34m(self, args, kwargs, cancellation_manager)\u001b[0m\n\u001b[0;32m   1846\u001b[0m                            resource_variable_ops.BaseResourceVariable))],\n\u001b[0;32m   1847\u001b[0m         \u001b[0mcaptured_inputs\u001b[0m\u001b[1;33m=\u001b[0m\u001b[0mself\u001b[0m\u001b[1;33m.\u001b[0m\u001b[0mcaptured_inputs\u001b[0m\u001b[1;33m,\u001b[0m\u001b[1;33m\u001b[0m\u001b[1;33m\u001b[0m\u001b[0m\n\u001b[1;32m-> 1848\u001b[1;33m         cancellation_manager=cancellation_manager)\n\u001b[0m\u001b[0;32m   1849\u001b[0m \u001b[1;33m\u001b[0m\u001b[0m\n\u001b[0;32m   1850\u001b[0m   \u001b[1;32mdef\u001b[0m \u001b[0m_call_flat\u001b[0m\u001b[1;33m(\u001b[0m\u001b[0mself\u001b[0m\u001b[1;33m,\u001b[0m \u001b[0margs\u001b[0m\u001b[1;33m,\u001b[0m \u001b[0mcaptured_inputs\u001b[0m\u001b[1;33m,\u001b[0m \u001b[0mcancellation_manager\u001b[0m\u001b[1;33m=\u001b[0m\u001b[1;32mNone\u001b[0m\u001b[1;33m)\u001b[0m\u001b[1;33m:\u001b[0m\u001b[1;33m\u001b[0m\u001b[1;33m\u001b[0m\u001b[0m\n",
      "\u001b[1;32m~\\anaconda3\\lib\\site-packages\\tensorflow\\python\\eager\\function.py\u001b[0m in \u001b[0;36m_call_flat\u001b[1;34m(self, args, captured_inputs, cancellation_manager)\u001b[0m\n\u001b[0;32m   1922\u001b[0m       \u001b[1;31m# No tape is watching; skip to running the function.\u001b[0m\u001b[1;33m\u001b[0m\u001b[1;33m\u001b[0m\u001b[1;33m\u001b[0m\u001b[0m\n\u001b[0;32m   1923\u001b[0m       return self._build_call_outputs(self._inference_function.call(\n\u001b[1;32m-> 1924\u001b[1;33m           ctx, args, cancellation_manager=cancellation_manager))\n\u001b[0m\u001b[0;32m   1925\u001b[0m     forward_backward = self._select_forward_and_backward_functions(\n\u001b[0;32m   1926\u001b[0m         \u001b[0margs\u001b[0m\u001b[1;33m,\u001b[0m\u001b[1;33m\u001b[0m\u001b[1;33m\u001b[0m\u001b[0m\n",
      "\u001b[1;32m~\\anaconda3\\lib\\site-packages\\tensorflow\\python\\eager\\function.py\u001b[0m in \u001b[0;36mcall\u001b[1;34m(self, ctx, args, cancellation_manager)\u001b[0m\n\u001b[0;32m    548\u001b[0m               \u001b[0minputs\u001b[0m\u001b[1;33m=\u001b[0m\u001b[0margs\u001b[0m\u001b[1;33m,\u001b[0m\u001b[1;33m\u001b[0m\u001b[1;33m\u001b[0m\u001b[0m\n\u001b[0;32m    549\u001b[0m               \u001b[0mattrs\u001b[0m\u001b[1;33m=\u001b[0m\u001b[0mattrs\u001b[0m\u001b[1;33m,\u001b[0m\u001b[1;33m\u001b[0m\u001b[1;33m\u001b[0m\u001b[0m\n\u001b[1;32m--> 550\u001b[1;33m               ctx=ctx)\n\u001b[0m\u001b[0;32m    551\u001b[0m         \u001b[1;32melse\u001b[0m\u001b[1;33m:\u001b[0m\u001b[1;33m\u001b[0m\u001b[1;33m\u001b[0m\u001b[0m\n\u001b[0;32m    552\u001b[0m           outputs = execute.execute_with_cancellation(\n",
      "\u001b[1;32m~\\anaconda3\\lib\\site-packages\\tensorflow\\python\\eager\\execute.py\u001b[0m in \u001b[0;36mquick_execute\u001b[1;34m(op_name, num_outputs, inputs, attrs, ctx, name)\u001b[0m\n\u001b[0;32m     58\u001b[0m     \u001b[0mctx\u001b[0m\u001b[1;33m.\u001b[0m\u001b[0mensure_initialized\u001b[0m\u001b[1;33m(\u001b[0m\u001b[1;33m)\u001b[0m\u001b[1;33m\u001b[0m\u001b[1;33m\u001b[0m\u001b[0m\n\u001b[0;32m     59\u001b[0m     tensors = pywrap_tfe.TFE_Py_Execute(ctx._handle, device_name, op_name,\n\u001b[1;32m---> 60\u001b[1;33m                                         inputs, attrs, num_outputs)\n\u001b[0m\u001b[0;32m     61\u001b[0m   \u001b[1;32mexcept\u001b[0m \u001b[0mcore\u001b[0m\u001b[1;33m.\u001b[0m\u001b[0m_NotOkStatusException\u001b[0m \u001b[1;32mas\u001b[0m \u001b[0me\u001b[0m\u001b[1;33m:\u001b[0m\u001b[1;33m\u001b[0m\u001b[1;33m\u001b[0m\u001b[0m\n\u001b[0;32m     62\u001b[0m     \u001b[1;32mif\u001b[0m \u001b[0mname\u001b[0m \u001b[1;32mis\u001b[0m \u001b[1;32mnot\u001b[0m \u001b[1;32mNone\u001b[0m\u001b[1;33m:\u001b[0m\u001b[1;33m\u001b[0m\u001b[1;33m\u001b[0m\u001b[0m\n",
      "\u001b[1;31mKeyboardInterrupt\u001b[0m: "
     ]
    }
   ],
   "source": [
    "#Train complex model on color ratio images\n",
    "history = model.fit(x_train,y_train,validation_data=(x_val, y_val),epochs = 40,batch_size = 32,callbacks = callbacks)\n",
    "\n",
    "# Report Results\n",
    "# print(history.history)\n",
    "y_pred = model.predict(x_test)\n",
    "score = model.evaluate(x_test, y_test, verbose=2)\n",
    "print(f'Test loss: {score[0]} / Test accuracy: {score[1]}')"
   ]
  },
  {
   "cell_type": "code",
   "execution_count": 50,
   "metadata": {},
   "outputs": [
    {
     "name": "stdout",
     "output_type": "stream",
     "text": [
      "adding fire_images\n",
      "adding non_fire_images\n",
      "486\n",
      "478\n",
      "Train: (579, 299, 299, 3) Test: (240, 299, 299, 3) Validation: (145, 299, 299, 3)\n"
     ]
    }
   ],
   "source": [
    "#Create 2D RGB image training data\n",
    "INPUT_SHAPE = (299,299, 3)\n",
    "training_data = create_training_data_RGB()\n",
    "\n",
    "train_data, test_data, validation_data = split_data(training_data)\n",
    "x_train, y_train = reshape_data_2D(train_data, INPUT_SHAPE)\n",
    "x_test, y_test = reshape_data_2D(test_data, INPUT_SHAPE)\n",
    "x_val, y_val = reshape_data_2D(validation_data, INPUT_SHAPE)\n",
    "print(\"Train:\", x_train.shape, \"Test:\", x_test.shape, \"Validation:\", x_val.shape)"
   ]
  },
  {
   "cell_type": "code",
   "execution_count": 51,
   "metadata": {},
   "outputs": [],
   "source": [
    "#Building a more complex model\n",
    "model = Sequential()\n",
    "model.add(Conv2D(128,(2,2),input_shape = INPUT_SHAPE,activation='relu'))\n",
    "model.add(Conv2D(64,(2,2),activation='relu'))\n",
    "model.add(MaxPooling2D())\n",
    "model.add(Conv2D(32,(2,2),activation='relu'))\n",
    "model.add(MaxPooling2D())\n",
    "model.add(Flatten())\n",
    "model.add(Dense(NUM_CLASSES, activation='softmax'))\n",
    "\n",
    "opt = SGD(lr=0.001)\n",
    "model.compile(optimizer=opt, loss='categorical_crossentropy', metrics=['accuracy'])\n",
    "callbacks = [EarlyStopping(monitor = 'val_loss',patience = 5,restore_best_weights=True)]"
   ]
  },
  {
   "cell_type": "code",
   "execution_count": null,
   "metadata": {},
   "outputs": [],
   "source": [
    "#Train complex model on color images\n",
    "history = model.fit(x_train,y_train,validation_data=(x_val, y_val),epochs = 40,batch_size = 32,callbacks = callbacks)\n",
    "\n",
    "# Report Results\n",
    "# print(history.history)\n",
    "y_pred = model.predict(x_test)\n",
    "score = model.evaluate(x_test, y_test, verbose=2)\n",
    "print(f'Test loss: {score[0]} / Test accuracy: {score[1]}')"
   ]
  }
 ],
 "metadata": {
  "kernelspec": {
   "display_name": "Python 3",
   "language": "python",
   "name": "python3"
  },
  "language_info": {
   "codemirror_mode": {
    "name": "ipython",
    "version": 3
   },
   "file_extension": ".py",
   "mimetype": "text/x-python",
   "name": "python",
   "nbconvert_exporter": "python",
   "pygments_lexer": "ipython3",
   "version": "3.7.6"
  }
 },
 "nbformat": 4,
 "nbformat_minor": 4
}
