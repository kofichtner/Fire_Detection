{
 "cells": [
  {
   "cell_type": "code",
   "execution_count": 1,
   "metadata": {},
   "outputs": [],
   "source": [
    "%matplotlib widget\n",
    "import cv2\n",
    "import os\n",
    "from matplotlib import pyplot as plt\n",
    "from matplotlib.widgets import Slider, Button\n",
    "import numpy as np\n",
    "import json\n",
    "from stereovision.calibration import StereoCalibrator\n",
    "from stereovision.calibration import StereoCalibration\n",
    "import ipywidgets as wg\n",
    "from IPython.display import display\n",
    "import seaborn as sns \n",
    "from PIL import Image"
   ]
  },
  {
   "cell_type": "code",
   "execution_count": 3,
   "metadata": {},
   "outputs": [],
   "source": [
    "# Constants\n",
    "photo_width = 3840\n",
    "photo_height = 1440\n",
    "focal_length = 512\n",
    "bases = [2.5625]\n",
    "colors = ['#f54242']\n",
    "exp_distances = [41.5,51.5,61.5,71.5,81.5,106.5,126.5,146.5]\n",
    "\n",
    "#Directories\n",
    "SCENEDIRS = ['./scenesD']\n",
    "CALIBDIRS = ['calib_resultD']\n",
    "\n",
    "image_height = photo_height\n",
    "image_width = int(photo_width/2)"
   ]
  },
  {
   "cell_type": "code",
   "execution_count": 4,
   "metadata": {},
   "outputs": [],
   "source": [
    "# Defining functions\n",
    "def generateBinaryImg(I):\n",
    "    I = I[0:photo_height, 0:image_width, :]\n",
    "    I_intensity = (I[:,:,1] > 100) # identify pixels with low GREEN values - they are less reliable\n",
    "    I_cr = I[:,:,2]/I[:,:,1]  # This is the ratio of Red (0) to Green (1)\n",
    "    I_cr[~I_intensity] = 1.0    # small green values would have infinite or near infinite ratios, replace with a \"big\" number instead for visualization\n",
    "    I_sig = (I[:,:,2] > 1.2*I[:,:,1]) & I_intensity # Create image identifying flames on brightness & color basis\n",
    "#     I_sig = (I[:,:,2]>220) & (I[:,:,2]<256)\n",
    "#     I_sig = (I_cr>1.1)\n",
    "    I_sig = np.uint8(I_sig)\n",
    "    I_processed = cv2.morphologyEx(I_sig, cv2.MORPH_OPEN, cv2.getStructuringElement(cv2.MORPH_ELLIPSE, (4,4)))\n",
    "    return I_processed\n",
    "\n",
    "def calculateDistance(avg_disparity):\n",
    "    return (base_offset*focal_length)/avg_disparity\n",
    "\n",
    "def getObjectDisparity(bin_img, disparity):\n",
    "    obj_disparity = np.where(bin_img, disparity,0) #replace all fire pixels with disparity values\n",
    "    obj_disparity = np.delete(obj_disparity,np.where(~obj_disparity.any(axis=1))[0], axis=0)\n",
    "    obj_disparity = np.delete(obj_disparity,np.where(~obj_disparity.any(axis=0))[0], axis=1)\n",
    "    return obj_disparity\n",
    "def getDisparity(img_path):\n",
    "    pair_img = cv2.imread(img_path,0)\n",
    "    imgLeft = pair_img[0:photo_height, 0:image_width]  # Y+H and X+W\n",
    "    imgRight = pair_img[0:photo_height, image_width:photo_width]  # Y+H and X+W\n",
    "    rectified_pair = calibration.rectify((imgLeft, imgRight))\n",
    "    sbm = cv2.StereoBM_create(numDisparities=48, blockSize=9)\n",
    "    disparity = sbm.compute(rectified_pair[0], rectified_pair[1])\n",
    "#     disparity = np.absolute(disparity)\n",
    "#     local_max = disparity.max()\n",
    "#     local_min = disparity.min()\n",
    "#     disparity_visual = (disparity - local_min) * (1.0 / (local_max - local_min))\n",
    "    return disparity#disparity_visual*255\n"
   ]
  },
  {
   "cell_type": "code",
   "execution_count": 5,
   "metadata": {},
   "outputs": [],
   "source": [
    "def calculateArea(bin_img, depth):\n",
    "    x,y,w,h = cv2.boundingRect(bin_img)\n",
    "    cam_mat = calibration.cam_mats['left']\n",
    "    u0 = cam_mat[0][2]\n",
    "    v0 = cam_mat[1][2]\n",
    "    fx = cam_mat[0][0]\n",
    "    fy = cam_mat[1][1]\n",
    "    u1 = x*fx/depth + u0\n",
    "    v1 = y*fy/depth + v0\n",
    "    u2 = (x+w)*fx/depth +u0\n",
    "    v2 = (y+h)*fy/depth +v0\n",
    "    img_coord1 = np.array([[u1,v1]])\n",
    "    img_coord2 = np.array([[u2,v2]])\n",
    "    rotation = calibration.rot_mat\n",
    "    translation = calibration.trans_vec\n",
    "#     world_coord1 = np.dot(img_coord1, np.linalg.inv(cam_mat))-translation.T\n",
    "    world_coord1 = np.dot(img_coord1-translation.T, np.linalg.inv(cam_mat))\n",
    "    world_coord1 = np.dot(world_coord1, np.linalg.inv(rotation))\n",
    "#     world_coord2 = np.dot(img_coord2, np.linalg.inv(cam_mat))-translation.T\n",
    "    world_coord2 = np.dot(img_coord2-translation.T, np.linalg.inv(cam_mat))\n",
    "    world_coord2 = np.dot(world_coord2, np.linalg.inv(rotation))\n",
    "    area = abs((world_coord2[0][0]-world_coord1[0][0])*(world_coord2[0][1]-world_coord1[0][1]))\n",
    "    return 0.095*area    "
   ]
  },
  {
   "cell_type": "code",
   "execution_count": 6,
   "metadata": {},
   "outputs": [],
   "source": [
    "## START\n",
    "import numpy.linalg as la\n",
    "\n",
    "def img2world(uv,cam_mat,rotation, translation, depth):\n",
    "\n",
    "    s = rotation[2,2]*depth + translation[2] # Warning: Neglects x,y influence on depth through rotation matrix.\n",
    "\n",
    "                                        # This seems OK because image is relatively centered and facing camera\n",
    "\n",
    "                                        #\n",
    "\n",
    "                                        # There might be a better way to specify s\n",
    "\n",
    "    f = cam_mat[0:2,0:2]  # creat a smaller matrix from the camera matrix\n",
    "\n",
    "    c = cam_mat[0:2,2]  # cx & cy - possibly incorrect indices\n",
    "\n",
    "    M = np.outer(c, rotation[0:2,2])  # cast dot product of two vectors into an equivalent matrix\n",
    "\n",
    "    F = f.dot(rotation[0:2,0:2]) + M  # combine like terms to save space and make it human readable\n",
    "\n",
    "    F_inv = la.inv(F)  # pre-calc inverse\n",
    "\n",
    "    xy = F_inv.dot(s*uv - c*(rotation[2,2]*depth+translation[2]) - f.dot(translation[0:2]) ) # solve.\n",
    "    return xy "
   ]
  },
  {
   "cell_type": "code",
   "execution_count": 7,
   "metadata": {},
   "outputs": [],
   "source": [
    "def calculateArea(bin_img, depth):\n",
    "\n",
    "    x,y,w,h = cv2.boundingRect(bin_img)\n",
    "\n",
    "    cam_mat = calibration.cam_mats['left']\n",
    "\n",
    "    world_coord1 = img2world(uv = np.array([x, y]), # line 32\n",
    "\n",
    "                         cam_mat = cam_mat,\n",
    "\n",
    "                         rotation = calibration.rot_mat,\n",
    "\n",
    "                         translation = calibration.trans_vec,\n",
    "\n",
    "                         depth = depth)\n",
    "\n",
    "    world_coord2 = img2world(uv = np.array([x+w, y+h]), # only part different from line 32\n",
    "\n",
    "                         cam_mat = cam_mat,\n",
    "\n",
    "                         rotation = calibration.rot_mat,\n",
    "\n",
    "                         translation = calibration.trans_vec,\n",
    "\n",
    "                         depth = depth)\n",
    "    print((world_coord2[0][1]-world_coord1[0][1])/(world_coord2[0][0]-world_coord1[0][0]))\n",
    "    \n",
    "    area = abs((world_coord2[0][0]-world_coord1[0][0])*(world_coord2[0][1]-world_coord1[0][1]))\n",
    "    return area   "
   ]
  },
  {
   "cell_type": "code",
   "execution_count": 8,
   "metadata": {},
   "outputs": [
    {
     "ename": "NameError",
     "evalue": "name 'calibration' is not defined",
     "output_type": "error",
     "traceback": [
      "\u001b[1;31m---------------------------------------------------------------------------\u001b[0m",
      "\u001b[1;31mNameError\u001b[0m                                 Traceback (most recent call last)",
      "\u001b[1;32m<ipython-input-8-24ca3aa32ee9>\u001b[0m in \u001b[0;36m<module>\u001b[1;34m\u001b[0m\n\u001b[1;32m----> 1\u001b[1;33m \u001b[0mprint\u001b[0m\u001b[1;33m(\u001b[0m\u001b[0mcalibration\u001b[0m\u001b[1;33m.\u001b[0m\u001b[0mcam_mats\u001b[0m\u001b[1;33m[\u001b[0m\u001b[1;34m'left'\u001b[0m\u001b[1;33m]\u001b[0m\u001b[1;33m)\u001b[0m\u001b[1;33m\u001b[0m\u001b[1;33m\u001b[0m\u001b[0m\n\u001b[0m\u001b[0;32m      2\u001b[0m \u001b[0mprint\u001b[0m\u001b[1;33m(\u001b[0m\u001b[1;36m11.5\u001b[0m\u001b[1;33m/\u001b[0m\u001b[1;36m9.25\u001b[0m\u001b[1;33m)\u001b[0m\u001b[1;33m\u001b[0m\u001b[1;33m\u001b[0m\u001b[0m\n",
      "\u001b[1;31mNameError\u001b[0m: name 'calibration' is not defined"
     ]
    }
   ],
   "source": [
    "print(calibration.cam_mats['left'])\n",
    "print(11.5/9.25)"
   ]
  },
  {
   "cell_type": "code",
   "execution_count": 10,
   "metadata": {},
   "outputs": [],
   "source": [
    "\n",
    "D1 = np.zeros((image_height,image_width), \"uint8\")\n",
    "D1[221:650,783:1130] =  1\n",
    "\n",
    "D2 = np.zeros((image_height,image_width), \"uint8\")\n",
    "D2[295:642,725:998] =  1\n",
    "\n",
    "D3 = np.zeros((image_height,image_width), \"uint8\")\n",
    "D3[350:640,768:998] =  1\n",
    "\n",
    "D4 = np.zeros((image_height,image_width), \"uint8\")\n",
    "D4[393:638,795:998] =  1\n",
    "\n",
    "D5 = np.zeros((image_height,image_width), \"uint8\")\n",
    "D5[416:630,834:1013] =  1\n",
    "\n",
    "D6 = np.zeros((image_height,image_width), \"uint8\")\n",
    "D6[506:674,908:1041] =  1\n",
    "\n",
    "D7 = np.zeros((image_height,image_width), \"uint8\")\n",
    "D7[525:665,935:1045] =  1\n",
    "\n",
    "D8 = np.zeros((image_height,image_width), \"uint8\")\n",
    "D8[540:661,938:1036] =  1\n",
    "\n",
    "binaries = [D1,D2,D3,D4,D5,D6,D7,D8]\n",
    "\n"
   ]
  },
  {
   "cell_type": "code",
   "execution_count": 11,
   "metadata": {
    "scrolled": false
   },
   "outputs": [
    {
     "data": {
      "application/vnd.jupyter.widget-view+json": {
       "model_id": "f0119ef5d416499aac9d64c27aecb490",
       "version_major": 2,
       "version_minor": 0
      },
      "text/plain": [
       "Canvas(toolbar=Toolbar(toolitems=[('Home', 'Reset original view', 'home', 'home'), ('Back', 'Back to previous …"
      ]
     },
     "metadata": {},
     "output_type": "display_data"
    },
    {
     "name": "stdout",
     "output_type": "stream",
     "text": [
      "1.236311239193083\n",
      "1.2363112391930835\n",
      "1.2363112391930837\n",
      "1.2363112391930835\n",
      "1.236311239193084\n",
      "1.2363112391930835\n",
      "1.2710622710622712\n",
      "1.271062271062271\n",
      "1.2710622710622714\n",
      "1.2710622710622712\n",
      "1.2710622710622717\n",
      "1.2710622710622708\n",
      "1.2608695652173905\n",
      "1.2608695652173916\n",
      "1.2608695652173916\n",
      "1.2608695652173916\n",
      "1.260869565217391\n",
      "1.2608695652173916\n",
      "1.2068965517241383\n",
      "1.2068965517241377\n",
      "1.2068965517241381\n",
      "1.2068965517241386\n",
      "1.2068965517241377\n",
      "1.2068965517241375\n",
      "1.2068965517241386\n",
      "1.2068965517241381\n",
      "1.1955307262569839\n",
      "1.1955307262569823\n",
      "1.1955307262569832\n",
      "1.1955307262569845\n",
      "1.1955307262569836\n",
      "1.1955307262569839\n",
      "1.195530726256983\n",
      "1.1955307262569828\n",
      "1.263157894736842\n",
      "1.2631578947368427\n",
      "1.2631578947368431\n",
      "1.2631578947368436\n",
      "1.263157894736841\n",
      "1.2631578947368414\n",
      "1.2727272727272732\n",
      "1.272727272727273\n",
      "1.2727272727272727\n",
      "1.2727272727272712\n",
      "1.272727272727273\n",
      "1.2727272727272723\n",
      "1.2346938775510206\n",
      "1.2346938775510183\n",
      "1.2346938775510203\n",
      "1.23469387755102\n",
      "1.2346938775510201\n",
      "1.2346938775510203\n",
      "count:  34\n",
      "percent correct:  0.6538461538461539\n"
     ]
    }
   ],
   "source": [
    "fig, ax = plt.subplots()\n",
    "count = 0\n",
    "total = 0\n",
    "tolerance = 25 #threshold distance should be within +/\n",
    "min_dist, max_dist = 0,0\n",
    "total_area = 0\n",
    "for i in range(1):\n",
    "    SCENEDIR = SCENEDIRS[i]\n",
    "    CALIBDIR = CALIBDIRS[i]\n",
    "    calibration = StereoCalibration(input_folder = CALIBDIR)\n",
    "    base_offset = bases[i]\n",
    "    j=0\n",
    "    for folder in os.listdir(SCENEDIR):\n",
    "        expected_dist = exp_distances[j]\n",
    "        bin_img = binaries[j]\n",
    "        j=j+1\n",
    "        for img_path in os.listdir(os.path.join(SCENEDIR,folder)):\n",
    "            full_path = os.path.join(SCENEDIR,folder,img_path)\n",
    "            disparity = getDisparity(full_path)\n",
    "            obj_disparity = getObjectDisparity(bin_img, disparity)\n",
    "            mean_object_disparity = np.mean(obj_disparity) #np.sum(obj_disparity)/np.count_nonzero(obj_disparity) #\n",
    "            obj_distance = calculateDistance(mean_object_disparity)\n",
    "            area = calculateArea(bin_img, obj_distance)\n",
    "            total_area+=area\n",
    "#             print(area)\n",
    "            if obj_distance > expected_dist - tolerance and obj_distance < expected_dist + tolerance:\n",
    "                color = \"#d19fe8\"\n",
    "                count = count+1\n",
    "            else:\n",
    "                color = colors[i]\n",
    "#             color = colors[i]\n",
    "            plt.scatter(expected_dist, obj_distance, marker = 'o', c = color)\n",
    "#             plt.scatter(expected_dist, area, marker = 'o', c = color)\n",
    "            total = total+1\n",
    "#             if obj_distance>max_dist:\n",
    "#                 max_dist = int(obj_distance)\n",
    "#             elif obj_distance<min_dist:\n",
    "#                 min_dist = int(obj_distance)\n",
    "# print(\"mean area: \", str(total_area/total))\n",
    "# ax.plot(range(40, 150), [9.25*11.5]*110, '-b', linewidth=1)\n",
    "ax.plot(range(0,160), range(0,160), '-b', linewidth=1)\n",
    "config1 = plt.scatter(None, None, marker = 'o', c = \"#d19fe8\")\n",
    "config2 = plt.scatter(None, None, marker = 'o', c = colors[0])\n",
    "\n",
    "plt.legend([config1, config2], ['within 25\" of actual dist', 'more than 25\" off from actual dist'])\n",
    "ax.set_ylabel(\"Measured Distance (inches)\")\n",
    "ax.set_xlabel(\"Expected Distance (inches)\")\n",
    "# ax.set_ylabel(\"Measured Area (inches^2)\")\n",
    "# ax.set_xlabel(\"Expected Distance (inches)\")\n",
    "ax.set_title(\"Object Distance Measurement from Stereo Camera\")\n",
    "# ax.set_title(\"Object Area Measurement from Stereo Camera\")\n",
    "\n",
    "print(\"count: \", count)\n",
    "print(\"percent correct: \", str(count/total))\n",
    "# plt.xlim(0,250)\n",
    "# plt.ylim(0,130)\n",
    "plt.show()\n",
    "fig.savefig('imageD.png', dpi = 300, bbox_inches = 'tight', transparent = False)"
   ]
  },
  {
   "cell_type": "code",
   "execution_count": 38,
   "metadata": {},
   "outputs": [
    {
     "name": "stdout",
     "output_type": "stream",
     "text": [
      "106.375\n"
     ]
    }
   ],
   "source": [
    "print(9.25*11.5)"
   ]
  },
  {
   "cell_type": "code",
   "execution_count": 12,
   "metadata": {},
   "outputs": [],
   "source": [
    "def getDisparity(img_path, numDisp, blkSize):\n",
    "    pair_img = cv2.imread(img_path,0)\n",
    "    imgLeft = pair_img[0:photo_height, 0:image_width]  # Y+H and X+W\n",
    "    imgRight = pair_img[0:photo_height, image_width:photo_width]  # Y+H and X+W\n",
    "    rectified_pair = calibration.rectify((imgLeft, imgRight))\n",
    "    sbm = cv2.StereoBM_create(numDisparities=numDisp, blockSize=blkSize)\n",
    "    disparity = sbm.compute(rectified_pair[0], rectified_pair[1])\n",
    "#     disparity = np.absolute(disparity)\n",
    "#     local_max = disparity.max()\n",
    "#     local_min = disparity.min()\n",
    "#     disparity_visual = (disparity - local_min) * (1.0 / (local_max - local_min))\n",
    "    return disparity#disparity_visual*255"
   ]
  },
  {
   "cell_type": "code",
   "execution_count": 13,
   "metadata": {},
   "outputs": [
    {
     "data": {
      "application/vnd.jupyter.widget-view+json": {
       "model_id": "5160fc7cf93a409eb1aa24a77cc2654a",
       "version_major": 2,
       "version_minor": 0
      },
      "text/plain": [
       "Canvas(toolbar=Toolbar(toolitems=[('Home', 'Reset original view', 'home', 'home'), ('Back', 'Back to previous …"
      ]
     },
     "metadata": {},
     "output_type": "display_data"
    },
    {
     "ename": "KeyboardInterrupt",
     "evalue": "",
     "output_type": "error",
     "traceback": [
      "\u001b[1;31m---------------------------------------------------------------------------\u001b[0m",
      "\u001b[1;31mKeyboardInterrupt\u001b[0m                         Traceback (most recent call last)",
      "\u001b[1;32m<ipython-input-13-d4b2ed3b279d>\u001b[0m in \u001b[0;36m<module>\u001b[1;34m\u001b[0m\n\u001b[0;32m     22\u001b[0m                 \u001b[1;32mfor\u001b[0m \u001b[0mimg_path\u001b[0m \u001b[1;32min\u001b[0m \u001b[0mos\u001b[0m\u001b[1;33m.\u001b[0m\u001b[0mlistdir\u001b[0m\u001b[1;33m(\u001b[0m\u001b[0mos\u001b[0m\u001b[1;33m.\u001b[0m\u001b[0mpath\u001b[0m\u001b[1;33m.\u001b[0m\u001b[0mjoin\u001b[0m\u001b[1;33m(\u001b[0m\u001b[0mSCENEDIR\u001b[0m\u001b[1;33m,\u001b[0m\u001b[0mfolder\u001b[0m\u001b[1;33m)\u001b[0m\u001b[1;33m)\u001b[0m\u001b[1;33m:\u001b[0m\u001b[1;33m\u001b[0m\u001b[1;33m\u001b[0m\u001b[0m\n\u001b[0;32m     23\u001b[0m                     \u001b[0mfull_path\u001b[0m \u001b[1;33m=\u001b[0m \u001b[0mos\u001b[0m\u001b[1;33m.\u001b[0m\u001b[0mpath\u001b[0m\u001b[1;33m.\u001b[0m\u001b[0mjoin\u001b[0m\u001b[1;33m(\u001b[0m\u001b[0mSCENEDIR\u001b[0m\u001b[1;33m,\u001b[0m\u001b[0mfolder\u001b[0m\u001b[1;33m,\u001b[0m\u001b[0mimg_path\u001b[0m\u001b[1;33m)\u001b[0m\u001b[1;33m\u001b[0m\u001b[1;33m\u001b[0m\u001b[0m\n\u001b[1;32m---> 24\u001b[1;33m                     \u001b[0mdisparity\u001b[0m \u001b[1;33m=\u001b[0m \u001b[0mgetDisparity\u001b[0m\u001b[1;33m(\u001b[0m\u001b[0mfull_path\u001b[0m\u001b[1;33m,\u001b[0m \u001b[0mNUMDISPARITIES\u001b[0m\u001b[1;33m[\u001b[0m\u001b[0mk\u001b[0m\u001b[1;33m]\u001b[0m\u001b[1;33m,\u001b[0m \u001b[0msize\u001b[0m\u001b[1;33m)\u001b[0m\u001b[1;33m\u001b[0m\u001b[1;33m\u001b[0m\u001b[0m\n\u001b[0m\u001b[0;32m     25\u001b[0m                     \u001b[0mobj_disparity\u001b[0m \u001b[1;33m=\u001b[0m \u001b[0mgetObjectDisparity\u001b[0m\u001b[1;33m(\u001b[0m\u001b[0mbin_img\u001b[0m\u001b[1;33m,\u001b[0m \u001b[0mdisparity\u001b[0m\u001b[1;33m)\u001b[0m\u001b[1;33m\u001b[0m\u001b[1;33m\u001b[0m\u001b[0m\n\u001b[0;32m     26\u001b[0m                     \u001b[0mmean_object_disparity\u001b[0m \u001b[1;33m=\u001b[0m \u001b[0mnp\u001b[0m\u001b[1;33m.\u001b[0m\u001b[0mmean\u001b[0m\u001b[1;33m(\u001b[0m\u001b[0mobj_disparity\u001b[0m\u001b[1;33m)\u001b[0m \u001b[1;31m#np.sum(obj_disparity)/np.count_nonzero(obj_disparity) #\u001b[0m\u001b[1;33m\u001b[0m\u001b[1;33m\u001b[0m\u001b[0m\n",
      "\u001b[1;32m<ipython-input-12-5b2fd1fa48fd>\u001b[0m in \u001b[0;36mgetDisparity\u001b[1;34m(img_path, numDisp, blkSize)\u001b[0m\n\u001b[0;32m      1\u001b[0m \u001b[1;32mdef\u001b[0m \u001b[0mgetDisparity\u001b[0m\u001b[1;33m(\u001b[0m\u001b[0mimg_path\u001b[0m\u001b[1;33m,\u001b[0m \u001b[0mnumDisp\u001b[0m\u001b[1;33m,\u001b[0m \u001b[0mblkSize\u001b[0m\u001b[1;33m)\u001b[0m\u001b[1;33m:\u001b[0m\u001b[1;33m\u001b[0m\u001b[1;33m\u001b[0m\u001b[0m\n\u001b[1;32m----> 2\u001b[1;33m     \u001b[0mpair_img\u001b[0m \u001b[1;33m=\u001b[0m \u001b[0mcv2\u001b[0m\u001b[1;33m.\u001b[0m\u001b[0mimread\u001b[0m\u001b[1;33m(\u001b[0m\u001b[0mimg_path\u001b[0m\u001b[1;33m,\u001b[0m\u001b[1;36m0\u001b[0m\u001b[1;33m)\u001b[0m\u001b[1;33m\u001b[0m\u001b[1;33m\u001b[0m\u001b[0m\n\u001b[0m\u001b[0;32m      3\u001b[0m     \u001b[0mimgLeft\u001b[0m \u001b[1;33m=\u001b[0m \u001b[0mpair_img\u001b[0m\u001b[1;33m[\u001b[0m\u001b[1;36m0\u001b[0m\u001b[1;33m:\u001b[0m\u001b[0mphoto_height\u001b[0m\u001b[1;33m,\u001b[0m \u001b[1;36m0\u001b[0m\u001b[1;33m:\u001b[0m\u001b[0mimage_width\u001b[0m\u001b[1;33m]\u001b[0m  \u001b[1;31m# Y+H and X+W\u001b[0m\u001b[1;33m\u001b[0m\u001b[1;33m\u001b[0m\u001b[0m\n\u001b[0;32m      4\u001b[0m     \u001b[0mimgRight\u001b[0m \u001b[1;33m=\u001b[0m \u001b[0mpair_img\u001b[0m\u001b[1;33m[\u001b[0m\u001b[1;36m0\u001b[0m\u001b[1;33m:\u001b[0m\u001b[0mphoto_height\u001b[0m\u001b[1;33m,\u001b[0m \u001b[0mimage_width\u001b[0m\u001b[1;33m:\u001b[0m\u001b[0mphoto_width\u001b[0m\u001b[1;33m]\u001b[0m  \u001b[1;31m# Y+H and X+W\u001b[0m\u001b[1;33m\u001b[0m\u001b[1;33m\u001b[0m\u001b[0m\n\u001b[0;32m      5\u001b[0m     \u001b[0mrectified_pair\u001b[0m \u001b[1;33m=\u001b[0m \u001b[0mcalibration\u001b[0m\u001b[1;33m.\u001b[0m\u001b[0mrectify\u001b[0m\u001b[1;33m(\u001b[0m\u001b[1;33m(\u001b[0m\u001b[0mimgLeft\u001b[0m\u001b[1;33m,\u001b[0m \u001b[0mimgRight\u001b[0m\u001b[1;33m)\u001b[0m\u001b[1;33m)\u001b[0m\u001b[1;33m\u001b[0m\u001b[1;33m\u001b[0m\u001b[0m\n",
      "\u001b[1;31mKeyboardInterrupt\u001b[0m: "
     ]
    }
   ],
   "source": [
    "SIZES = [5, 7, 9, 11, 13, 15,17, 19, 21]\n",
    "NUMDISPARITIES = [16, 32, 48, 64]\n",
    "colors = ['#f54242', '#42f578', '#42a7f5', \"#d19fe8\"]\n",
    "fig, ax = plt.subplots()\n",
    "count = 0\n",
    "total = 0\n",
    "tolerance = 25 #threshold distance should be within +/\n",
    "min_dist, max_dist = 0,0\n",
    "for size in SIZES:\n",
    "    for k in range(len(NUMDISPARITIES)):\n",
    "        color = colors[k]\n",
    "        for i in range(1):\n",
    "            SCENEDIR = SCENEDIRS[i]\n",
    "            CALIBDIR = CALIBDIRS[i]\n",
    "            calibration = StereoCalibration(input_folder = CALIBDIR)\n",
    "            base_offset = bases[i]\n",
    "            j=0\n",
    "            for folder in os.listdir(SCENEDIR):\n",
    "                expected_dist = exp_distances[j]\n",
    "                bin_img = binaries[j]\n",
    "                j=j+1\n",
    "                for img_path in os.listdir(os.path.join(SCENEDIR,folder)):\n",
    "                    full_path = os.path.join(SCENEDIR,folder,img_path)\n",
    "                    disparity = getDisparity(full_path, NUMDISPARITIES[k], size)\n",
    "                    obj_disparity = getObjectDisparity(bin_img, disparity)\n",
    "                    mean_object_disparity = np.mean(obj_disparity) #np.sum(obj_disparity)/np.count_nonzero(obj_disparity) #\n",
    "                    obj_distance = calculateDistance(mean_object_disparity)\n",
    "\n",
    "                    if obj_distance > expected_dist - tolerance and obj_distance < expected_dist + tolerance:\n",
    "                        count = count+1\n",
    "                    total = total+1\n",
    "                    if obj_distance>max_dist:\n",
    "                        max_dist = int(obj_distance)\n",
    "                    elif obj_distance<min_dist:\n",
    "                        min_dist = int(obj_distance)\n",
    "#         print(count)\n",
    "        plt.scatter(size, count, marker = 'o', c = color)\n",
    "        count = 0\n",
    "config1 = plt.scatter(None, None, marker = 'o', c = colors[0])\n",
    "config2 = plt.scatter(None, None, marker = 'o', c = colors[1])\n",
    "config3 = plt.scatter(None, None, marker = 'o', c = colors[2])\n",
    "config4 = plt.scatter(None, None, marker = 'o', c = colors[3])\n",
    "\n",
    "plt.legend([config1, config2, config3, config4], [NUMDISPARITIES[0], NUMDISPARITIES[1], NUMDISPARITIES[2],NUMDISPARITIES[3]])\n",
    "ax.set_ylabel(\"# Correct Measurements\")\n",
    "ax.set_xlabel(\"Block Size\")\n",
    "ax.set_title(\"Effect of Disparity Settings on Distance Measurements\")\n",
    "plt.show()"
   ]
  },
  {
   "cell_type": "code",
   "execution_count": 14,
   "metadata": {
    "scrolled": false
   },
   "outputs": [
    {
     "name": "stdout",
     "output_type": "stream",
     "text": [
      "['1', '2', '3', '4', '5', '6', '7', '8']\n"
     ]
    },
    {
     "data": {
      "application/vnd.jupyter.widget-view+json": {
       "model_id": "41ed9e43900942d4b10cc56233718e5f",
       "version_major": 2,
       "version_minor": 0
      },
      "text/plain": [
       "Canvas(toolbar=Toolbar(toolitems=[('Home', 'Reset original view', 'home', 'home'), ('Back', 'Back to previous …"
      ]
     },
     "metadata": {},
     "output_type": "display_data"
    },
    {
     "ename": "TypeError",
     "evalue": "getDisparity() missing 2 required positional arguments: 'numDisp' and 'blkSize'",
     "output_type": "error",
     "traceback": [
      "\u001b[1;31m---------------------------------------------------------------------------\u001b[0m",
      "\u001b[1;31mTypeError\u001b[0m                                 Traceback (most recent call last)",
      "\u001b[1;32m<ipython-input-14-5e686c19f182>\u001b[0m in \u001b[0;36m<module>\u001b[1;34m\u001b[0m\n\u001b[0;32m     22\u001b[0m \u001b[0mfig\u001b[0m\u001b[1;33m,\u001b[0m \u001b[0max\u001b[0m \u001b[1;33m=\u001b[0m \u001b[0mplt\u001b[0m\u001b[1;33m.\u001b[0m\u001b[0msubplots\u001b[0m\u001b[1;33m(\u001b[0m\u001b[1;33m)\u001b[0m\u001b[1;33m\u001b[0m\u001b[1;33m\u001b[0m\u001b[0m\n\u001b[0;32m     23\u001b[0m \u001b[0mI\u001b[0m \u001b[1;33m=\u001b[0m \u001b[0mcv2\u001b[0m\u001b[1;33m.\u001b[0m\u001b[0mimread\u001b[0m\u001b[1;33m(\u001b[0m\u001b[0mimg_path\u001b[0m\u001b[1;33m)\u001b[0m\u001b[1;33m\u001b[0m\u001b[1;33m\u001b[0m\u001b[0m\n\u001b[1;32m---> 24\u001b[1;33m \u001b[0mdisparity\u001b[0m \u001b[1;33m=\u001b[0m \u001b[0mgetDisparity\u001b[0m\u001b[1;33m(\u001b[0m\u001b[0mimg_path\u001b[0m\u001b[1;33m)\u001b[0m\u001b[1;33m\u001b[0m\u001b[1;33m\u001b[0m\u001b[0m\n\u001b[0m\u001b[0;32m     25\u001b[0m \u001b[0mprint\u001b[0m\u001b[1;33m(\u001b[0m\u001b[0mimg_path\u001b[0m\u001b[1;33m)\u001b[0m\u001b[1;33m\u001b[0m\u001b[1;33m\u001b[0m\u001b[0m\n\u001b[0;32m     26\u001b[0m \u001b[0mimgLeft\u001b[0m \u001b[1;33m=\u001b[0m \u001b[0mI\u001b[0m\u001b[1;33m[\u001b[0m\u001b[1;36m0\u001b[0m\u001b[1;33m:\u001b[0m\u001b[0mphoto_height\u001b[0m\u001b[1;33m,\u001b[0m \u001b[1;36m0\u001b[0m\u001b[1;33m:\u001b[0m\u001b[0mimage_width\u001b[0m\u001b[1;33m,\u001b[0m \u001b[1;33m:\u001b[0m\u001b[1;33m]\u001b[0m  \u001b[1;31m# Y+H and X+W\u001b[0m\u001b[1;33m\u001b[0m\u001b[1;33m\u001b[0m\u001b[0m\n",
      "\u001b[1;31mTypeError\u001b[0m: getDisparity() missing 2 required positional arguments: 'numDisp' and 'blkSize'"
     ]
    }
   ],
   "source": [
    "#choose camera configuration & calibrate\n",
    "i = 0\n",
    "SCENEDIR = SCENEDIRS[i]\n",
    "CALIBDIR = CALIBDIRS[i]\n",
    "BINARY = binaries\n",
    "scenes = os.listdir(SCENEDIR)\n",
    "print(scenes)\n",
    "calibration = StereoCalibration(input_folder = CALIBDIR)\n",
    "\n",
    "#chose distance and image\n",
    "j = 0\n",
    "folder = scenes[j]\n",
    "bin_img = BINARY[j]\n",
    "images = os.listdir(os.path.join(SCENEDIR,folder))\n",
    "image = images[0]\n",
    "img_path = os.path.join(SCENEDIR,folder,image)\n",
    "\n",
    "pair_img = cv2.imread(img_path, 0)\n",
    "imgLeft = pair_img[0:photo_height, 0:image_width]  # Y+H and X+W\n",
    "imgRight = pair_img[0:photo_height, image_width:photo_width]  # Y+H and X+W\n",
    "rectified_pair = calibration.rectify((imgLeft, imgRight))\n",
    "fig, ax = plt.subplots()\n",
    "I = cv2.imread(img_path)\n",
    "disparity = getDisparity(img_path)\n",
    "print(img_path)\n",
    "imgLeft = I[0:photo_height, 0:image_width, :]  # Y+H and X+W\n",
    "\n",
    "ax.get_yaxis().set_visible(False) \n",
    "ax.get_xaxis().set_visible(False) \n",
    "imgLeft = cv2.cvtColor(imgLeft, cv2.COLOR_BGR2RGB)\n",
    "\n",
    "\n",
    "plt.imshow(imgLeft)\n",
    "fig.savefig('imageD.png', dpi = 300, bbox_inches = 'tight', transparent = False)\n",
    "print(imgLeft.shape)"
   ]
  },
  {
   "cell_type": "code",
   "execution_count": null,
   "metadata": {},
   "outputs": [],
   "source": []
  },
  {
   "cell_type": "code",
   "execution_count": 15,
   "metadata": {},
   "outputs": [
    {
     "data": {
      "application/vnd.jupyter.widget-view+json": {
       "model_id": "385ed51143d948d8a3615882c4b781ff",
       "version_major": 2,
       "version_minor": 0
      },
      "text/plain": [
       "Canvas(toolbar=Toolbar(toolitems=[('Home', 'Reset original view', 'home', 'home'), ('Back', 'Back to previous …"
      ]
     },
     "metadata": {},
     "output_type": "display_data"
    },
    {
     "name": "stdout",
     "output_type": "stream",
     "text": [
      "distance:  40.441668155162475\n",
      "mean:  32.44178739032851\n"
     ]
    }
   ],
   "source": [
    "fig, ax = plt.subplots()\n",
    "\n",
    "obj_disparity = getObjectDisparity(bin_img, disparity)\n",
    "\n",
    "sns.distplot(obj_disparity, ax= ax,hist = True,norm_hist = False, kde = False)\n",
    "mean_object_disparity = np.sum(obj_disparity)/np.count_nonzero(obj_disparity)#np.mean(obj_disparity)\n",
    "obj_distance = calculateDistance(mean_object_disparity)\n",
    "print(\"distance: \", obj_distance)\n",
    "print(\"mean: \",mean_object_disparity)"
   ]
  },
  {
   "cell_type": "code",
   "execution_count": 16,
   "metadata": {},
   "outputs": [
    {
     "data": {
      "application/vnd.jupyter.widget-view+json": {
       "model_id": "ecaa4c6010ea41998b2233c7dd1eb28b",
       "version_major": 2,
       "version_minor": 0
      },
      "text/plain": [
       "Canvas(toolbar=Toolbar(toolitems=[('Home', 'Reset original view', 'home', 'home'), ('Back', 'Back to previous …"
      ]
     },
     "metadata": {},
     "output_type": "display_data"
    },
    {
     "name": "stdout",
     "output_type": "stream",
     "text": [
      "Start interface creation (it takes up to 30 seconds)...\n",
      "Show interface to user\n"
     ]
    }
   ],
   "source": [
    "# Depth map function\n",
    "SWS = 5\n",
    "PFS = 5\n",
    "PFC = 29\n",
    "MDS = -25\n",
    "NOD = 128\n",
    "TTH = 100\n",
    "UR = 10\n",
    "SR = 15\n",
    "SPWS = 100\n",
    "\n",
    "def stereo_depth_map(rectified_pair):\n",
    "    c, r = rectified_pair[0].shape\n",
    "    disparity = np.zeros((c, r), np.uint8)\n",
    "    sbm = cv2.StereoBM_create(numDisparities=16, blockSize=15)\n",
    "    sbm.setPreFilterType(1)\n",
    "    sbm.setPreFilterSize(PFS)\n",
    "    sbm.setPreFilterCap(PFC)\n",
    "    sbm.setMinDisparity(MDS)\n",
    "    sbm.setNumDisparities(NOD)\n",
    "    sbm.setTextureThreshold(TTH)\n",
    "    sbm.setUniquenessRatio(UR)\n",
    "    sbm.setSpeckleRange(SR)\n",
    "    sbm.setSpeckleWindowSize(SPWS)\n",
    "    disparity = sbm.compute(rectified_pair[0], rectified_pair[1])\n",
    "    local_max = disparity.max()\n",
    "    local_min = disparity.min()\n",
    "    disparity_visual = (disparity - local_min) * (1.0 / (local_max - local_min))\n",
    "    local_max = disparity_visual.max()\n",
    "    local_min = disparity_visual.min()\n",
    "    return disparity_visual\n",
    "\n",
    "disparity = stereo_depth_map(rectified_pair)\n",
    "# Set up and draw interface\n",
    "# Draw left image and depth map\n",
    "axcolor = 'lightgoldenrodyellow'\n",
    "fig = plt.subplots(1, 2)\n",
    "plt.subplots_adjust(left=0.15, bottom=0.5)\n",
    "plt.subplot(1, 2, 1)\n",
    "dmObject = plt.imshow(rectified_pair[0], 'gray')\n",
    "\n",
    "saveax = plt.axes([0.3, 0.38, 0.15, 0.04])  # stepX stepY width height\n",
    "buttons = Button(saveax, 'Save settings', color=axcolor, hovercolor='0.975')\n",
    "def save_map_settings(event):\n",
    "    buttons.label.set_text(\"Saving...\")\n",
    "    print('Saving to file...')\n",
    "    result = json.dumps({'SADWindowSize': SWS, 'preFilterSize': PFS, 'preFilterCap': PFC, \\\n",
    "                         'minDisparity': MDS, 'numberOfDisparities': NOD, 'textureThreshold': TTH, \\\n",
    "                         'uniquenessRatio': UR, 'speckleRange': SR, 'speckleWindowSize': SPWS}, \\\n",
    "                        sort_keys=True, indent=4, separators=(',', ':'))\n",
    "    fName = '3dmap_set.txt'\n",
    "    f = open(str(fName), 'w')\n",
    "    f.write(result)\n",
    "    f.close()\n",
    "    buttons.label.set_text(\"Save to file\")\n",
    "    print('Settings saved to file ' + fName)\n",
    "\n",
    "\n",
    "buttons.on_clicked(save_map_settings)\n",
    "loadax = plt.axes([0.5, 0.38, 0.15, 0.04])  # stepX stepY width height\n",
    "buttonl = Button(loadax, 'Load settings', color=axcolor, hovercolor='0.975')\n",
    "\n",
    "def load_map_settings(event):\n",
    "    global SWS, PFS, PFC, MDS, NOD, TTH, UR, SR, SPWS, loading_settings\n",
    "    loading_settings = 1\n",
    "    fName = '3dmap_set.txt'\n",
    "    f = open(fName, 'r')\n",
    "    data = json.load(f)\n",
    "    sSWS.set_val(data['SADWindowSize'])\n",
    "    sPFS.set_val(data['preFilterSize'])\n",
    "    sPFC.set_val(data['preFilterCap'])\n",
    "    sMDS.set_val(data['minDisparity'])\n",
    "    sNOD.set_val(data['numberOfDisparities'])\n",
    "    sTTH.set_val(data['textureThreshold'])\n",
    "    sUR.set_val(data['uniquenessRatio'])\n",
    "    sSR.set_val(data['speckleRange'])\n",
    "    sSPWS.set_val(data['speckleWindowSize'])\n",
    "    f.close()\n",
    "    buttonl.label.set_text(\"Load settings\")\n",
    "    print('Parameters loaded from file ' + fName)\n",
    "    loading_settings = 0\n",
    "    update(0)\n",
    "\n",
    "buttonl.on_clicked(load_map_settings)\n",
    "\n",
    "plt.subplot(1, 2, 2)\n",
    "dmObject = plt.imshow(disparity, aspect='equal', cmap='jet')\n",
    "\n",
    "# Draw interface for adjusting parameters\n",
    "print('Start interface creation (it takes up to 30 seconds)...')\n",
    "\n",
    "SWSaxe = plt.axes([0.15, 0.01, 0.7, 0.025])  #stepX stepY width height\n",
    "PFSaxe = plt.axes([0.15, 0.05, 0.7, 0.025])  #stepX stepY width height\n",
    "PFCaxe = plt.axes([0.15, 0.09, 0.7, 0.025])  #stepX stepY width height\n",
    "MDSaxe = plt.axes([0.15, 0.13, 0.7, 0.025])  #stepX stepY width height\n",
    "NODaxe = plt.axes([0.15, 0.17, 0.7, 0.025])  #stepX stepY width height\n",
    "TTHaxe = plt.axes([0.15, 0.21, 0.7, 0.025])  #stepX stepY width height\n",
    "URaxe = plt.axes([0.15, 0.25, 0.7, 0.025])   #stepX stepY width height\n",
    "SRaxe = plt.axes([0.15, 0.29, 0.7, 0.025])   #stepX stepY width height\n",
    "SPWSaxe = plt.axes([0.15, 0.33, 0.7, 0.025]) #stepX stepY width height\n",
    "\n",
    "sSWS = Slider(SWSaxe, 'SWS', 5.0, 255.0, valinit=5)\n",
    "sPFS = Slider(PFSaxe, 'PFS', 5.0, 255.0, valinit=5)\n",
    "sPFC = Slider(PFCaxe, 'PreFiltCap', 5.0, 63.0, valinit=29)\n",
    "sMDS = Slider(MDSaxe, 'MinDISP', -100.0, 100.0, valinit=-25)\n",
    "sNOD = Slider(NODaxe, 'NumOfDisp', 16.0, 256.0, valinit=128)\n",
    "sTTH = Slider(TTHaxe, 'TxtrThrshld', 0.0, 1000.0, valinit=100)\n",
    "sUR = Slider(URaxe, 'UnicRatio', 1.0, 20.0, valinit=10)\n",
    "sSR = Slider(SRaxe, 'SpcklRng', 0.0, 40.0, valinit=15)\n",
    "sSPWS = Slider(SPWSaxe, 'SpklWinSze', 0.0, 300.0, valinit=100)\n",
    "\n",
    "# Update depth map parameters and redraw\n",
    "def update(val):\n",
    "    global SWS, PFS, PFC, MDS, NOD, TTH, UR, SR, SPWS\n",
    "    SWS = int(sSWS.val / 2) * 2 + 1  # convert to ODD\n",
    "    PFS = int(sPFS.val / 2) * 2 + 1\n",
    "    PFC = int(sPFC.val / 2) * 2 + 1\n",
    "    MDS = int(sMDS.val)\n",
    "    NOD = int(sNOD.val / 16) * 16\n",
    "    TTH = int(sTTH.val)\n",
    "    UR = int(sUR.val)\n",
    "    SR = int(sSR.val)\n",
    "    SPWS = int(sSPWS.val)\n",
    "    if (loading_settings == 0):\n",
    "        print('Rebuilding depth map')\n",
    "        disparity = stereo_depth_map(rectified_pair)\n",
    "        dmObject.set_data(disparity)\n",
    "        print('Redraw depth map')\n",
    "        plt.draw()\n",
    "\n",
    "# Connect update actions to control elements\n",
    "sSWS.on_changed(update)\n",
    "sPFS.on_changed(update)\n",
    "sPFC.on_changed(update)\n",
    "sMDS.on_changed(update)\n",
    "sNOD.on_changed(update)\n",
    "sTTH.on_changed(update)\n",
    "sUR.on_changed(update)\n",
    "sSR.on_changed(update)\n",
    "sSPWS.on_changed(update)\n",
    "\n",
    "print('Show interface to user')\n",
    "plt.show()"
   ]
  },
  {
   "cell_type": "code",
   "execution_count": 27,
   "metadata": {
    "scrolled": true
   },
   "outputs": [
    {
     "data": {
      "application/vnd.jupyter.widget-view+json": {
       "model_id": "c6a87a2f4cef412c9b4aeba7bdc610f9",
       "version_major": 2,
       "version_minor": 0
      },
      "text/plain": [
       "Canvas(toolbar=Toolbar(toolitems=[('Home', 'Reset original view', 'home', 'home'), ('Back', 'Back to previous …"
      ]
     },
     "metadata": {},
     "output_type": "display_data"
    },
    {
     "ename": "TypeError",
     "evalue": "'NoneType' object is not subscriptable",
     "output_type": "error",
     "traceback": [
      "\u001b[1;31m---------------------------------------------------------------------------\u001b[0m",
      "\u001b[1;31mTypeError\u001b[0m                                 Traceback (most recent call last)",
      "\u001b[1;32m<ipython-input-27-c9b569b29a4d>\u001b[0m in \u001b[0;36m<module>\u001b[1;34m\u001b[0m\n\u001b[0;32m      3\u001b[0m \u001b[0mRGB_image\u001b[0m \u001b[1;33m=\u001b[0m \u001b[0mcv2\u001b[0m\u001b[1;33m.\u001b[0m\u001b[0mimread\u001b[0m\u001b[1;33m(\u001b[0m\u001b[0mimg_path\u001b[0m\u001b[1;33m)\u001b[0m\u001b[1;33m\u001b[0m\u001b[1;33m\u001b[0m\u001b[0m\n\u001b[0;32m      4\u001b[0m \u001b[0mpair_img\u001b[0m \u001b[1;33m=\u001b[0m \u001b[0mcv2\u001b[0m\u001b[1;33m.\u001b[0m\u001b[0mimread\u001b[0m\u001b[1;33m(\u001b[0m\u001b[0mimg_path\u001b[0m\u001b[1;33m,\u001b[0m\u001b[1;36m0\u001b[0m\u001b[1;33m)\u001b[0m\u001b[1;33m\u001b[0m\u001b[1;33m\u001b[0m\u001b[0m\n\u001b[1;32m----> 5\u001b[1;33m \u001b[0mimgLeft\u001b[0m \u001b[1;33m=\u001b[0m \u001b[0mpair_img\u001b[0m\u001b[1;33m[\u001b[0m\u001b[1;36m0\u001b[0m\u001b[1;33m:\u001b[0m\u001b[0mphoto_height\u001b[0m\u001b[1;33m,\u001b[0m \u001b[1;36m0\u001b[0m\u001b[1;33m:\u001b[0m\u001b[0mimage_width\u001b[0m\u001b[1;33m]\u001b[0m  \u001b[1;31m# Y+H and X+W\u001b[0m\u001b[1;33m\u001b[0m\u001b[1;33m\u001b[0m\u001b[0m\n\u001b[0m\u001b[0;32m      6\u001b[0m \u001b[0mimgRight\u001b[0m \u001b[1;33m=\u001b[0m \u001b[0mpair_img\u001b[0m\u001b[1;33m[\u001b[0m\u001b[1;36m0\u001b[0m\u001b[1;33m:\u001b[0m\u001b[0mphoto_height\u001b[0m\u001b[1;33m,\u001b[0m \u001b[0mimage_width\u001b[0m\u001b[1;33m:\u001b[0m\u001b[0mphoto_width\u001b[0m\u001b[1;33m]\u001b[0m  \u001b[1;31m# Y+H and X+W\u001b[0m\u001b[1;33m\u001b[0m\u001b[1;33m\u001b[0m\u001b[0m\n\u001b[0;32m      7\u001b[0m \u001b[0mrectified_pair\u001b[0m \u001b[1;33m=\u001b[0m \u001b[0mcalibration\u001b[0m\u001b[1;33m.\u001b[0m\u001b[0mrectify\u001b[0m\u001b[1;33m(\u001b[0m\u001b[1;33m(\u001b[0m\u001b[0mimgLeft\u001b[0m\u001b[1;33m,\u001b[0m \u001b[0mimgRight\u001b[0m\u001b[1;33m)\u001b[0m\u001b[1;33m)\u001b[0m\u001b[1;33m\u001b[0m\u001b[1;33m\u001b[0m\u001b[0m\n",
      "\u001b[1;31mTypeError\u001b[0m: 'NoneType' object is not subscriptable"
     ]
    }
   ],
   "source": [
    "fig, ax = plt.subplots(ncols = 2, figsize = (6,4))\n",
    "\n",
    "RGB_image = cv2.imread(img_path)\n",
    "pair_img = cv2.imread(img_path,0)\n",
    "imgLeft = pair_img[0:photo_height, 0:image_width]  # Y+H and X+W\n",
    "imgRight = pair_img[0:photo_height, image_width:photo_width]  # Y+H and X+W\n",
    "rectified_pair = calibration.rectify((imgLeft, imgRight))\n",
    "RGB_imgLeft = RGB_image[0:photo_height, 0:image_width, :]\n",
    "RGB_imgRight = RGB_image[0:photo_height, image_width:photo_width, :]\n",
    "# bin_img = generateBinaryImg(RGB_imgLeft)\n",
    "\n",
    "disparity = getDisparity(img_path)\n",
    "print(\"MAX: \", np.max(disparity))\n",
    "print(\"MIN: \", np.min(disparity))\n",
    "print(\"MEAN: \", np.mean(disparity))\n",
    "\n",
    "\n",
    "ax[0].imshow(stereo_depth_map(rectified_pair),cmap='jet')  #cmap='jet'\n",
    "ax[1].imshow(bin_img)\n",
    "[ax[j].get_yaxis().set_visible(False) for j in range(2)]\n",
    "[ax[j].get_xaxis().set_visible(False) for j in range(2)]\n",
    "fig.savefig('image.png', dpi = 300, bbox_inches = 'tight', transparent = True, )"
   ]
  },
  {
   "cell_type": "code",
   "execution_count": 60,
   "metadata": {},
   "outputs": [
    {
     "data": {
      "image/png": "[encoded data removed]",
      "text/plain": [
       "<Figure size 432x288 with 2 Axes>"
      ]
     },
     "metadata": {
      "needs_background": "light"
     },
     "output_type": "display_data"
    }
   ],
   "source": [
    "fig, ax = plt.subplots(ncols = 2, figsize = (6,4))\n",
    "ax[0].imshow(rectified_pair[1])\n",
    "# ax[0].imshow(stereo_depth_map(rectified_pair),cmap='jet') #cmap='jet'\n",
    "ax[1].imshow(RGB_imgLeft)\n",
    "\n",
    "[ax[j].get_yaxis().set_visible(False) for j in range(2)]\n",
    "[ax[j].get_xaxis().set_visible(False) for j in range(2)]\n",
    "fig.savefig('image2.png', dpi = 300, bbox_inches = 'tight', transparent = False)"
   ]
  },
  {
   "cell_type": "code",
   "execution_count": null,
   "metadata": {},
   "outputs": [],
   "source": [
    "n = -2\n",
    "m = n\n",
    "D1 = np.zeros((image_height,image_width), \"uint8\")\n",
    "D1[260-n:615+n,810-m:1060+m] =  1\n",
    "\n",
    "D2 = np.zeros((image_height,image_width), \"uint8\")\n",
    "D2[335-n:620+n,740-m:930+m] =  1\n",
    "\n",
    "D3 = np.zeros((image_height,image_width), \"uint8\")\n",
    "D3[390-n:610+n,770-m:935+m] =  1\n",
    "\n",
    "D4 = np.zeros((image_height,image_width), \"uint8\")\n",
    "D4[420-n:605+n,807-m:947+m] =  1\n",
    "\n",
    "D5 = np.zeros((image_height,image_width), \"uint8\")\n",
    "D5[448-n:610+n,840-m:960+m] =  1\n",
    "\n",
    "D6 = np.zeros((image_height,image_width), \"uint8\")\n",
    "D6[525-n:646+n,915-m:1000+m] =  1\n",
    "\n",
    "D7 = np.zeros((image_height,image_width), \"uint8\")\n",
    "D7[535-n:635+n,930-m:1000+m] =  1\n",
    "\n",
    "D8 = np.zeros((image_height,image_width), \"uint8\")\n",
    "D8[545-n:635+n,940-m:998+m] =  1\n",
    "\n",
    "binaries = [D1,D2,D3,D4,D5,D6,D7,D8]"
   ]
  }
 ],
 "metadata": {
  "kernelspec": {
   "display_name": "Python 3",
   "language": "python",
   "name": "python3"
  },
  "language_info": {
   "codemirror_mode": {
    "name": "ipython",
    "version": 3
   },
   "file_extension": ".py",
   "mimetype": "text/x-python",
   "name": "python",
   "nbconvert_exporter": "python",
   "pygments_lexer": "ipython3",
   "version": "3.7.6"
  }
 },
 "nbformat": 4,
 "nbformat_minor": 4
}
