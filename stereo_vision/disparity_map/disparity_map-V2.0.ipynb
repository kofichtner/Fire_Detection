{
 "cells": [
  {
   "cell_type": "code",
   "execution_count": 1,
   "metadata": {
    "pycharm": {
     "is_executing": false
    }
   },
   "outputs": [],
   "source": [
    "#Source for map tuning code: https://medium.com/stereopi/opencv-and-depth-map-on-stereopi-tutorial-62cb6792bbed\n",
    "%matplotlib widget\n",
    "import cv2\n",
    "import os\n",
    "from matplotlib import pyplot as plt\n",
    "from matplotlib.widgets import Slider, Button\n",
    "import numpy as np\n",
    "import json\n",
    "from stereovision.calibration import StereoCalibrator\n",
    "from stereovision.calibration import StereoCalibration\n",
    "import ipywidgets as wg\n",
    "from IPython.display import display\n",
    "import seaborn as sns                  "
   ]
  },
  {
   "cell_type": "code",
   "execution_count": 2,
   "metadata": {},
   "outputs": [],
   "source": [
    "photo_width = 1280\n",
    "photo_height = 480\n",
    "image_height = photo_height\n",
    "image_width = int(photo_width/2)\n",
    "def getImagePath(width, height, num):\n",
    "    return './scenes2/240in/scene_'+str(width)+'x'+str(height)+'_'+str(num)+'.png'\n",
    "\n",
    "# def setResolution(width, height):\n",
    "#     global photo_width, photo_height, image_height, image_width\n",
    "#     photo_width = 1280\n",
    "#     photo_height = 480\n",
    "#     image_height = photo_height\n",
    "#     image_width = int(photo_width/2)"
   ]
  },
  {
   "cell_type": "code",
   "execution_count": 3,
   "metadata": {
    "pycharm": {
     "is_executing": false
    }
   },
   "outputs": [
    {
     "data": {
      "application/vnd.jupyter.widget-view+json": {
       "model_id": "8322f79e93904f35a70de52a3b921cff",
       "version_major": 2,
       "version_minor": 0
      },
      "text/plain": [
       "Canvas(toolbar=Toolbar(toolitems=[('Home', 'Reset original view', 'home', 'home'), ('Back', 'Back to previous …"
      ]
     },
     "metadata": {},
     "output_type": "display_data"
    },
    {
     "name": "stdout",
     "output_type": "stream",
     "text": [
      "Can not read image from file \"./scenes2/240in/scene_1280x480_1.png\"\n",
      "Read and split image...\n"
     ]
    },
    {
     "ename": "TypeError",
     "evalue": "'NoneType' object is not subscriptable",
     "output_type": "error",
     "traceback": [
      "\u001b[1;31m---------------------------------------------------------------------------\u001b[0m",
      "\u001b[1;31mTypeError\u001b[0m                                 Traceback (most recent call last)",
      "\u001b[1;32m<ipython-input-3-927e8b1b4eef>\u001b[0m in \u001b[0;36m<module>\u001b[1;34m\u001b[0m\n\u001b[0;32m      8\u001b[0m \u001b[0mpair_img\u001b[0m \u001b[1;33m=\u001b[0m \u001b[0mcv2\u001b[0m\u001b[1;33m.\u001b[0m\u001b[0mimread\u001b[0m\u001b[1;33m(\u001b[0m\u001b[0mimageToDisp\u001b[0m\u001b[1;33m,\u001b[0m \u001b[1;36m0\u001b[0m\u001b[1;33m)\u001b[0m\u001b[1;33m\u001b[0m\u001b[1;33m\u001b[0m\u001b[0m\n\u001b[0;32m      9\u001b[0m \u001b[0mprint\u001b[0m\u001b[1;33m(\u001b[0m\u001b[1;34m'Read and split image...'\u001b[0m\u001b[1;33m)\u001b[0m\u001b[1;33m\u001b[0m\u001b[1;33m\u001b[0m\u001b[0m\n\u001b[1;32m---> 10\u001b[1;33m \u001b[0mimgLeft\u001b[0m \u001b[1;33m=\u001b[0m \u001b[0mpair_img\u001b[0m\u001b[1;33m[\u001b[0m\u001b[1;36m0\u001b[0m\u001b[1;33m:\u001b[0m\u001b[0mphoto_height\u001b[0m\u001b[1;33m,\u001b[0m \u001b[1;36m0\u001b[0m\u001b[1;33m:\u001b[0m\u001b[0mimage_width\u001b[0m\u001b[1;33m]\u001b[0m  \u001b[1;31m# Y+H and X+W\u001b[0m\u001b[1;33m\u001b[0m\u001b[1;33m\u001b[0m\u001b[0m\n\u001b[0m\u001b[0;32m     11\u001b[0m \u001b[0mimgRight\u001b[0m \u001b[1;33m=\u001b[0m \u001b[0mpair_img\u001b[0m\u001b[1;33m[\u001b[0m\u001b[1;36m0\u001b[0m\u001b[1;33m:\u001b[0m\u001b[0mphoto_height\u001b[0m\u001b[1;33m,\u001b[0m \u001b[0mimage_width\u001b[0m\u001b[1;33m:\u001b[0m\u001b[0mphoto_width\u001b[0m\u001b[1;33m]\u001b[0m  \u001b[1;31m# Y+H and X+W\u001b[0m\u001b[1;33m\u001b[0m\u001b[1;33m\u001b[0m\u001b[0m\n\u001b[0;32m     12\u001b[0m \u001b[1;33m\u001b[0m\u001b[0m\n",
      "\u001b[1;31mTypeError\u001b[0m: 'NoneType' object is not subscriptable"
     ]
    }
   ],
   "source": [
    "fig, ax = plt.subplots()\n",
    "image_size = (image_width, image_height)\n",
    "imageToDisp = getImagePath(photo_width, photo_height, 1)\n",
    "if os.path.isfile(imageToDisp) == False:\n",
    "    print('Can not read image from file \\\"' + imageToDisp + '\\\"')\n",
    "    exit(0)\n",
    "\n",
    "pair_img = cv2.imread(imageToDisp, 0)\n",
    "print('Read and split image...')\n",
    "imgLeft = pair_img[0:photo_height, 0:image_width]  # Y+H and X+W\n",
    "imgRight = pair_img[0:photo_height, image_width:photo_width]  # Y+H and X+W\n",
    "\n",
    "# Implementing calibration data\n",
    "print('Read calibration data and rectifying stereo pair...')\n",
    "calibration = StereoCalibration(input_folder='calib_result2')\n",
    "rectified_pair = calibration.rectify((imgLeft, imgRight))\n",
    "focal_length = -1*calibration.disp_to_depth_mat[2][3]\n",
    "\n",
    "ax.imshow(rectified_pair[0])"
   ]
  },
  {
   "cell_type": "code",
   "execution_count": null,
   "metadata": {
    "pycharm": {
     "is_executing": false
    }
   },
   "outputs": [],
   "source": [
    "# Depth map function\n",
    "SWS = 5\n",
    "PFS = 5\n",
    "PFC = 29\n",
    "MDS = -25\n",
    "NOD = 128\n",
    "TTH = 100\n",
    "UR = 10\n",
    "SR = 15\n",
    "SPWS = 100\n",
    "\n",
    "def stereo_depth_map(rectified_pair):\n",
    "    print('SWS=' + str(SWS) + ' PFS=' + str(PFS) + ' PFC=' + str(PFC) + ' MDS=' + \\\n",
    "          str(MDS) + ' NOD=' + str(NOD) + ' TTH=' + str(TTH))\n",
    "    print(' UR=' + str(UR) + ' SR=' + str(SR) + ' SPWS=' + str(SPWS))\n",
    "    c, r = rectified_pair[0].shape\n",
    "    disparity = np.zeros((c, r), np.uint8)\n",
    "    sbm = cv2.StereoBM_create(numDisparities=16, blockSize=15)\n",
    "    # sbm.SADWindowSize = SWS\n",
    "    sbm.setPreFilterType(1)\n",
    "    sbm.setPreFilterSize(PFS)\n",
    "    sbm.setPreFilterCap(PFC)\n",
    "    sbm.setMinDisparity(MDS)\n",
    "    sbm.setNumDisparities(NOD)\n",
    "    sbm.setTextureThreshold(TTH)\n",
    "    sbm.setUniquenessRatio(UR)\n",
    "    sbm.setSpeckleRange(SR)\n",
    "    sbm.setSpeckleWindowSize(SPWS)\n",
    "    dmLeft = rectified_pair[0]\n",
    "    dmRight = rectified_pair[1]\n",
    "    # cv2.FindStereoCorrespondenceBM(dmLeft, dmRight, disparity, sbm)\n",
    "    disparity = sbm.compute(dmLeft, dmRight)\n",
    "    # disparity_visual = cv.CreateMat(c, r, cv.CV_8U)\n",
    "    local_max = disparity.max()\n",
    "    local_min = disparity.min()\n",
    "    print(\"MAX \" + str(local_max))\n",
    "    print(\"MIN \" + str(local_min))\n",
    "    disparity_visual = (disparity - local_min) * (1.0 / (local_max - local_min))\n",
    "    local_max = disparity_visual.max()\n",
    "    local_min = disparity_visual.min()\n",
    "    print(\"MAX \" + str(local_max))\n",
    "    print(\"MIN \" + str(local_min))\n",
    "    # cv.Normalize(disparity, disparity_visual, 0, 255, cv.CV_MINMAX)\n",
    "    # disparity_visual = np.array(disparity_visual)\n",
    "    return disparity_visual\n",
    "disparity = stereo_depth_map(rectified_pair)"
   ]
  },
  {
   "cell_type": "code",
   "execution_count": null,
   "metadata": {
    "pycharm": {
     "is_executing": false
    }
   },
   "outputs": [],
   "source": [
    "# Set up and draw interface\n",
    "# Draw left image and depth map\n",
    "axcolor = 'lightgoldenrodyellow'\n",
    "fig = plt.subplots(1, 2)\n",
    "plt.subplots_adjust(left=0.15, bottom=0.5)\n",
    "plt.subplot(1, 2, 1)\n",
    "dmObject = plt.imshow(rectified_pair[0], 'gray')\n",
    "\n",
    "saveax = plt.axes([0.3, 0.38, 0.15, 0.04])  # stepX stepY width height\n",
    "buttons = Button(saveax, 'Save settings', color=axcolor, hovercolor='0.975')\n",
    "def save_map_settings(event):\n",
    "    buttons.label.set_text(\"Saving...\")\n",
    "    print('Saving to file...')\n",
    "    result = json.dumps({'SADWindowSize': SWS, 'preFilterSize': PFS, 'preFilterCap': PFC, \\\n",
    "                         'minDisparity': MDS, 'numberOfDisparities': NOD, 'textureThreshold': TTH, \\\n",
    "                         'uniquenessRatio': UR, 'speckleRange': SR, 'speckleWindowSize': SPWS}, \\\n",
    "                        sort_keys=True, indent=4, separators=(',', ':'))\n",
    "    fName = '3dmap_set.txt'\n",
    "    f = open(str(fName), 'w')\n",
    "    f.write(result)\n",
    "    f.close()\n",
    "    buttons.label.set_text(\"Save to file\")\n",
    "    print('Settings saved to file ' + fName)\n",
    "\n",
    "\n",
    "buttons.on_clicked(save_map_settings)\n",
    "loadax = plt.axes([0.5, 0.38, 0.15, 0.04])  # stepX stepY width height\n",
    "buttonl = Button(loadax, 'Load settings', color=axcolor, hovercolor='0.975')\n",
    "\n",
    "def load_map_settings(event):\n",
    "    global SWS, PFS, PFC, MDS, NOD, TTH, UR, SR, SPWS, loading_settings\n",
    "    loading_settings = 1\n",
    "    fName = '3dmap_set.txt'\n",
    "    print('Loading parameters from file...')\n",
    "    buttonl.label.set_text(\"Loading...\")\n",
    "    f = open(fName, 'r')\n",
    "    data = json.load(f)\n",
    "    sSWS.set_val(data['SADWindowSize'])\n",
    "    sPFS.set_val(data['preFilterSize'])\n",
    "    sPFC.set_val(data['preFilterCap'])\n",
    "    sMDS.set_val(data['minDisparity'])\n",
    "    sNOD.set_val(data['numberOfDisparities'])\n",
    "    sTTH.set_val(data['textureThreshold'])\n",
    "    sUR.set_val(data['uniquenessRatio'])\n",
    "    sSR.set_val(data['speckleRange'])\n",
    "    sSPWS.set_val(data['speckleWindowSize'])\n",
    "    f.close()\n",
    "    buttonl.label.set_text(\"Load settings\")\n",
    "    print('Parameters loaded from file ' + fName)\n",
    "    print('Redrawing depth map with loaded parameters...')\n",
    "    loading_settings = 0\n",
    "    update(0)\n",
    "    print('Done!')\n",
    "\n",
    "buttonl.on_clicked(load_map_settings)\n",
    "\n",
    "plt.subplot(1, 2, 2)\n",
    "dmObject = plt.imshow(disparity, aspect='equal', cmap='jet')\n",
    "\n",
    "# Draw interface for adjusting parameters\n",
    "print('Start interface creation (it takes up to 30 seconds)...')\n",
    "\n",
    "SWSaxe = plt.axes([0.15, 0.01, 0.7, 0.025])  # , axisbg=axcolor) #stepX stepY width height\n",
    "PFSaxe = plt.axes([0.15, 0.05, 0.7, 0.025])  # , axisbg=axcolor) #stepX stepY width height\n",
    "PFCaxe = plt.axes([0.15, 0.09, 0.7, 0.025])  # , axisbg=axcolor) #stepX stepY width height\n",
    "MDSaxe = plt.axes([0.15, 0.13, 0.7, 0.025])  # , axisbg=axcolor) #stepX stepY width height\n",
    "NODaxe = plt.axes([0.15, 0.17, 0.7, 0.025])  # , axisbg=axcolor) #stepX stepY width height\n",
    "TTHaxe = plt.axes([0.15, 0.21, 0.7, 0.025])  # , axisbg=axcolor) #stepX stepY width height\n",
    "URaxe = plt.axes([0.15, 0.25, 0.7, 0.025])  # , axisbg=axcolor) #stepX stepY width height\n",
    "SRaxe = plt.axes([0.15, 0.29, 0.7, 0.025])  # , axisbg=axcolor) #stepX stepY width height\n",
    "SPWSaxe = plt.axes([0.15, 0.33, 0.7, 0.025])  # , axisbg=axcolor) #stepX stepY width height\n",
    "\n",
    "sSWS = Slider(SWSaxe, 'SWS', 5.0, 255.0, valinit=5)\n",
    "sPFS = Slider(PFSaxe, 'PFS', 5.0, 255.0, valinit=5)\n",
    "sPFC = Slider(PFCaxe, 'PreFiltCap', 5.0, 63.0, valinit=29)\n",
    "sMDS = Slider(MDSaxe, 'MinDISP', -100.0, 100.0, valinit=-25)\n",
    "sNOD = Slider(NODaxe, 'NumOfDisp', 16.0, 256.0, valinit=128)\n",
    "sTTH = Slider(TTHaxe, 'TxtrThrshld', 0.0, 1000.0, valinit=100)\n",
    "sUR = Slider(URaxe, 'UnicRatio', 1.0, 20.0, valinit=10)\n",
    "sSR = Slider(SRaxe, 'SpcklRng', 0.0, 40.0, valinit=15)\n",
    "sSPWS = Slider(SPWSaxe, 'SpklWinSze', 0.0, 300.0, valinit=100)\n",
    "\n",
    "# Update depth map parameters and redraw\n",
    "def update(val):\n",
    "    global SWS, PFS, PFC, MDS, NOD, TTH, UR, SR, SPWS\n",
    "    SWS = int(sSWS.val / 2) * 2 + 1  # convert to ODD\n",
    "    PFS = int(sPFS.val / 2) * 2 + 1\n",
    "    PFC = int(sPFC.val / 2) * 2 + 1\n",
    "    MDS = int(sMDS.val)\n",
    "    NOD = int(sNOD.val / 16) * 16\n",
    "    TTH = int(sTTH.val)\n",
    "    UR = int(sUR.val)\n",
    "    SR = int(sSR.val)\n",
    "    SPWS = int(sSPWS.val)\n",
    "    if (loading_settings == 0):\n",
    "        print('Rebuilding depth map')\n",
    "        disparity = stereo_depth_map(rectified_pair)\n",
    "        dmObject.set_data(disparity)\n",
    "        print('Redraw depth map')\n",
    "        plt.draw()\n",
    "\n",
    "# Connect update actions to control elements\n",
    "sSWS.on_changed(update)\n",
    "sPFS.on_changed(update)\n",
    "sPFC.on_changed(update)\n",
    "sMDS.on_changed(update)\n",
    "sNOD.on_changed(update)\n",
    "sTTH.on_changed(update)\n",
    "sUR.on_changed(update)\n",
    "sSR.on_changed(update)\n",
    "sSPWS.on_changed(update)\n",
    "\n",
    "print('Show interface to user')\n",
    "plt.show()"
   ]
  },
  {
   "cell_type": "code",
   "execution_count": null,
   "metadata": {},
   "outputs": [],
   "source": [
    "def generateBinaryImg(I):\n",
    "    I_intensity = (I[:,:,1] > 1000) # identify pixels with low GREEN values - they are less reliable\n",
    "    I_cr = I[:,:,0]/I[:,:,1]  # This is the ratio of Red (0) to Green (1)\n",
    "    I_cr[~I_intensity] = 1000    # small green values would have infinite or near infinite ratios, replace with a \"big\" number instead for visualization\n",
    "    I_sig = (I[:,:,0] > 1.0*I[:,:,1]) & I_intensity # Create image identifying flames on brightness & color basis\n",
    "    I_sig = np.uint8(I_sig)\n",
    "    I_processed = cv2.morphologyEx(I_sig, cv2.MORPH_OPEN, cv2.getStructuringElement(cv2.MORPH_ELLIPSE, (4,4)))\n",
    "    return I_processed\n",
    "\n",
    "def distance_to_camera(avg_disparity):\n",
    "    # compute and return the distance from the maker to the camera\n",
    "    return (base_offset*focal_length)/avg_disparity\n",
    "\n",
    "def fire_disparity(bin_img, disparity):\n",
    "    return np.where(bin_img, disparity,0) #replace all fire pixels with disparity values\n"
   ]
  },
  {
   "cell_type": "code",
   "execution_count": null,
   "metadata": {
    "scrolled": false
   },
   "outputs": [],
   "source": [
    "def generateBinaryImgStereo(I):\n",
    "    I_intensity = (I[:,:,1] > 100) # identify pixels with low GREEN values - they are less reliable\n",
    "    I_cr = I[:,:,2]/I[:,:,1]  # This is the ratio of Red (0) to Green (1)\n",
    "    I_cr[~I_intensity] = 1.0    # small green values would have infinite or near infinite ratios, replace with a \"big\" number instead for visualization\n",
    "    I_sig = (I[:,:,2] > 1.2*I[:,:,1]) & I_intensity # Create image identifying flames on brightness & color basis\n",
    "#     I_sig = (I[:,:,2]>220) & (I[:,:,2]<256)\n",
    "#     I_sig = (I_cr>1.1)\n",
    "    I_sig = np.uint8(I_sig)\n",
    "    I_processed = cv2.morphologyEx(I_sig, cv2.MORPH_OPEN, cv2.getStructuringElement(cv2.MORPH_ELLIPSE, (4,4)))\n",
    "    return I_processed\n",
    "\n",
    "fig, ax = plt.subplots(ncols = 2)\n",
    "imageToDisp = getImagePath(photo_width, photo_height, 1)\n",
    "I = cv2.imread(imageToDisp)\n",
    "imgLeft_RGB = I[0:photo_height, 0:image_width, :]\n",
    "bin_img = generateBinaryImgStereo(imgLeft_RGB)\n",
    "ax[0].imshow(imgLeft_RGB)\n",
    "ax[1].imshow(bin_img)"
   ]
  },
  {
   "cell_type": "code",
   "execution_count": null,
   "metadata": {
    "scrolled": true
   },
   "outputs": [],
   "source": [
    "fig, ax = plt.subplots()\n",
    "I = imgLeft_RGB\n",
    "I_intensity = (I[:,:,1] > 100) # identify pixels with low GREEN values - they are less reliable\n",
    "I_cr = I[:,:,2]/I[:,:,1]  # This is the ratio of Red (0) to Green (1)\n",
    "I_cr[~I_intensity] = 100    # small green values would have infinite or near infinite ratios\n",
    "sns.distplot(I_cr[I_intensity],ax= ax,hist = True,norm_hist = False, kde = False)\n",
    "ax.set_ylabel(\"Number of Pixels\")\n",
    "ax.set_xlabel(\"Color Ratio: B/G\")\n",
    "ax.set_title(\"Distribution of B/G ratios \")\n",
    "plt.show()"
   ]
  },
  {
   "cell_type": "code",
   "execution_count": null,
   "metadata": {},
   "outputs": [],
   "source": [
    "fig, ax= plt.subplots() \n",
    "num_images = 5\n",
    "for i in range(1,num_images+1):\n",
    "    imageToDisp = getImagePath(photo_width, photo_height, i)\n",
    "    I = cv2.imread(imageToDisp)\n",
    "    I_intensity = (I[:,:,1] > 100) # identify pixels with low GREEN values - they are less reliable\n",
    "    I_cr = I[:,:,2]/I[:,:,1]  # This is the ratio of Red (0) to Green (1)\n",
    "    I_cr[~I_intensity] = 100    # small green values would have infinite or near infinite ratios, replace with a \"big\" number instead for visualization\n",
    "    mean = np.mean(I_cr[I_intensity])\n",
    "    plt.errorbar(np.mean(I_intensity), mean, np.std(I_cr[I_intensity]), linestyle='None', marker='o')\n",
    "\n",
    "#plt.errorbar(imageNum, mean, np.std(I_cr[I_intensity]), linestyle='None', marker='o')\n",
    "ax.set_ylabel(\"Color Ratio: R/G\")\n",
    "ax.set_xlabel(\"Mean Intensity\")\n",
    "ax.set_title(\"Error in Distribution of R/G Ratios\")\n",
    "plt.show()"
   ]
  },
  {
   "cell_type": "code",
   "execution_count": null,
   "metadata": {
    "scrolled": true
   },
   "outputs": [],
   "source": [
    "fig, ax = plt.subplots(ncols = 3)\n",
    "I_cr = imgLeft_RGB[:,:,0]/imgLeft_RGB[:,:,1]\n",
    "ax[0].imshow(imgLeft_RGB[:,:,0])\n",
    "ax[1].imshow(imgLeft_RGB[:,:,1])\n",
    "ax[2].imshow(imgLeft_RGB[:,:,2])\n",
    "ax[0].set_title(\"Red\")\n",
    "ax[1].set_title(\"Green\")\n",
    "ax[2].set_title(\"Blue\")\n",
    "[ax[j].get_yaxis().set_visible(False) for j in range(3)]\n",
    "[ax[j].get_xaxis().set_visible(False) for j in range(3)]"
   ]
  },
  {
   "cell_type": "code",
   "execution_count": null,
   "metadata": {
    "scrolled": false
   },
   "outputs": [],
   "source": [
    "fig, ax = plt.subplots()\n",
    "base_offset = 2.58\n",
    "\n",
    "num_images = 5\n",
    "expected_min = 90\n",
    "expected_max = 110\n",
    "\n",
    "bin_img = np.zeros((480,640), \"uint8\")\n",
    "# bin_img[152:202,350:389] =  1\n",
    "bin_img[165:212,392:433] =  1\n",
    "\n",
    "for i in range(1,num_images+1):\n",
    "    imageToDisp = getImagePath(photo_width, photo_height, i)\n",
    "    RGB_image = cv2.imread(imageToDisp)\n",
    "    pair_img = cv2.imread(imageToDisp,0)\n",
    "    imgLeft = pair_img[0:photo_height, 0:image_width]  # Y+H and X+W\n",
    "    imgRight = pair_img[0:photo_height, image_width:photo_width]  # Y+H and X+W\n",
    "    calibration = StereoCalibration(input_folder='calib_result2')\n",
    "    rectified_pair = calibration.rectify((imgLeft, imgRight))\n",
    "    dmLeft = rectified_pair[0]\n",
    "    dmRight = rectified_pair[1]\n",
    "    sbm = cv2.StereoBM_create(numDisparities=16, blockSize=15)\n",
    "    disparity_pixels = sbm.compute(dmLeft, dmRight)\n",
    "    imgLeft_RGB = RGB_image[0:photo_height, 0:image_width, :]\n",
    "\n",
    "#     bin_img = generateBinaryImgStereo(imgLeft_RGB)\n",
    "    visual = fire_disparity(bin_img, disparity)\n",
    "    I = fire_disparity(bin_img, disparity_pixels)\n",
    "    mean = np.sum(I)/np.count_nonzero(I) #avg disparity of fire pixels\n",
    "    distance = distance_to_camera(mean)\n",
    "    if distance > expected_min and distance < expected_max:\n",
    "        color = \"#d19fe8\"\n",
    "    elif distance < 0:\n",
    "        color = \"#D3D3D3\"\n",
    "        distance = 0\n",
    "    else:\n",
    "        color = '#c32148'\n",
    "    print(distance)\n",
    "    plt.scatter(i, distance, marker = 'o', c = color)\n",
    "\n",
    "ax.plot(range(1,num_images+1), [(expected_min + expected_max)/2]*num_images, '--', linewidth=2, color='#d62728')\n",
    "ax.set_ylabel(\"Distance (inches)\")\n",
    "ax.set_xlabel(\"Image #\")\n",
    "ax.set_title(\"Distance from Fire to Camera\")\n",
    "plt.show()"
   ]
  },
  {
   "cell_type": "code",
   "execution_count": null,
   "metadata": {
    "scrolled": false
   },
   "outputs": [],
   "source": [
    "fig, ax = plt.subplots(ncols = 2)\n",
    "imageToDisp = getImagePath(photo_width, photo_height, 1)\n",
    "RGB_image = cv2.imread(imageToDisp)\n",
    "pair_img = cv2.imread(imageToDisp,0)\n",
    "imgLeft = pair_img[0:photo_height, 0:image_width]  # Y+H and X+W\n",
    "imgRight = pair_img[0:photo_height, image_width:photo_width]  # Y+H and X+W\n",
    "calibration = StereoCalibration(input_folder='calib_result2')\n",
    "rectified_pair = calibration.rectify((imgLeft, imgRight))\n",
    "dmLeft = rectified_pair[0]\n",
    "dmRight = rectified_pair[1]\n",
    "sbm = cv2.StereoBM_create(numDisparities=16, blockSize=15)\n",
    "disparity_pixels = sbm.compute(dmLeft, dmRight)\n",
    "imgLeft_RGB = RGB_image[0:photo_height, 0:image_width, :]\n",
    "\n",
    "# bin_img = generateBinaryImgStereo(imgLeft_RGB)\n",
    "\n",
    "visual = fire_disparity(bin_img, disparity)\n",
    "I = fire_disparity(bin_img, disparity_pixels)\n",
    "mean = np.sum(I)/np.count_nonzero(I) #avg disparity of fire pixels\n",
    "distance = distance_to_camera(mean)\n",
    "\n",
    "visual = fire_disparity(bin_img, disparity)\n",
    "ax[0].imshow(stereo_depth_map(rectified_pair),cmap='jet')  #cmap='jet'\n",
    "ax[1].imshow(visual,cmap='jet')\n",
    "print(\"mean disparity: \", mean)\n",
    "print(\"distance: \", distance_to_camera(mean))"
   ]
  },
  {
   "cell_type": "code",
   "execution_count": null,
   "metadata": {},
   "outputs": [],
   "source": [
    "print(np.mean(disparity_pixels))"
   ]
  }
 ],
 "metadata": {
  "kernelspec": {
   "display_name": "Python 3",
   "language": "python",
   "name": "python3"
  },
  "language_info": {
   "codemirror_mode": {
    "name": "ipython",
    "version": 3
   },
   "file_extension": ".py",
   "mimetype": "text/x-python",
   "name": "python",
   "nbconvert_exporter": "python",
   "pygments_lexer": "ipython3",
   "version": "3.7.6"
  },
  "pycharm": {
   "stem_cell": {
    "cell_type": "raw",
    "metadata": {
     "collapsed": false
    },
    "source": []
   }
  }
 },
 "nbformat": 4,
 "nbformat_minor": 1
}
